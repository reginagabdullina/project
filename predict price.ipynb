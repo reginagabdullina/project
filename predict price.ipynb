{
 "cells": [
  {
   "cell_type": "markdown",
   "metadata": {},
   "source": [
    "# Определение стоимости автомобилей"
   ]
  },
  {
   "cell_type": "markdown",
   "metadata": {},
   "source": [
    "Сервис по продаже автомобилей с пробегом «Не бит, не крашен» разрабатывает приложение для привлечения новых клиентов. В нём можно быстро узнать рыночную стоимость своего автомобиля. В вашем распоряжении исторические данные: технические характеристики, комплектации и цены автомобилей. Вам нужно построить модель для определения стоимости. \n",
    "\n",
    "Заказчику важны:\n",
    "\n",
    "- качество предсказания;\n",
    "- скорость предсказания;\n",
    "- время обучения."
   ]
  },
  {
   "cell_type": "markdown",
   "metadata": {},
   "source": [
    "# Инструкция по выполнению проекта"
   ]
  },
  {
   "cell_type": "markdown",
   "metadata": {},
   "source": [
    "Чтобы усилить исследование, не ограничивайтесь градиентным бустингом. Попробуйте более простые модели — иногда они работают лучше. Это редкие случаи, которые легко пропустить, если всегда применять только бустинг. Поэкспериментируйте и сравните характеристики моделей: скорость работы, точность результата.\n",
    "Загрузите и подготовьте данные.\n",
    "Обучите разные модели. Для каждой попробуйте различные гиперпараметры.\n",
    "Проанализируйте скорость работы и качество моделей.\n",
    "Примечания:\n",
    "Для оценки качества моделей применяйте метрику RMSE.\n",
    "Самостоятельно освойте библиотеку LightGBM и её средствами постройте модели градиентного бустинга.\n",
    "Время выполнения ячейки кода Jupyter Notebook можно получить специальной командой. Найдите её.\n",
    "Поскольку модель градиентного бустинга может обучаться долго, измените у неё только два-три параметра.\n",
    "Если перестанет работать Jupyter Notebook, удалите лишние переменные оператором del:\n",
    "Скопировать код\n",
    "PYTHON\n",
    "del features_train "
   ]
  },
  {
   "cell_type": "markdown",
   "metadata": {},
   "source": [
    "# Описание данных\n",
    "\n",
    "Данные находятся в файле /datasets/autos.csv\n",
    "\n",
    "# Признаки\n",
    "\n",
    "- DateCrawled — дата скачивания анкеты из базы\n",
    "- VehicleType — тип автомобильного кузова\n",
    "- RegistrationYear — год регистрации автомобиля\n",
    "- Gearbox  — тип коробки передач\n",
    "- Power — мощность (л. с.)\n",
    "- Model — модель автомобиля\n",
    "- Kilometer — пробег (км)\n",
    "- RegistrationMonth — месяц регистрации автомобиля\n",
    "- FuelType — тип топлива\n",
    "- Brand — марка автомобиля\n",
    "- NotRepaired — была машина в ремонте или нет\n",
    "- DateCreated — дата создания анкеты\n",
    "- NumberOfPictures — количество фотографий автомобиля\n",
    "- PostalCode — почтовый индекс владельца анкеты (пользователя)\n",
    "- LastSeen — дата последней активности пользователя\n",
    "\n",
    "# Целевой признак\n",
    "\n",
    "- Price — цена (евро)"
   ]
  },
  {
   "cell_type": "markdown",
   "metadata": {},
   "source": [
    "## Подготовка данных"
   ]
  },
  {
   "cell_type": "code",
   "execution_count": 1,
   "metadata": {},
   "outputs": [],
   "source": [
    "# Импорт библиотек\n",
    "import pandas as pd\n",
    "import numpy as np\n",
    "import matplotlib.pyplot as plt\n",
    "import seaborn as sns\n",
    "from scipy import stats as st\n",
    "from sklearn.preprocessing import OrdinalEncoder\n",
    "import time\n",
    "from sklearn.model_selection import train_test_split\n",
    "from sklearn.preprocessing import StandardScaler\n",
    "from sklearn.metrics import mean_squared_error\n",
    "from sklearn.tree import DecisionTreeRegressor\n",
    "from sklearn.linear_model import LinearRegression\n",
    "from sklearn.ensemble import RandomForestRegressor\n",
    "from sklearn.model_selection import GridSearchCV\n",
    "import lightgbm as lgb\n",
    "from lightgbm import LGBMRegressor\n",
    "import warnings\n",
    "warnings.simplefilter('ignore')"
   ]
  },
  {
   "cell_type": "code",
   "execution_count": 2,
   "metadata": {},
   "outputs": [],
   "source": [
    "# Открываем файл с данными\n",
    "auto = pd.read_csv('/datasets/autos.csv')"
   ]
  },
  {
   "cell_type": "code",
   "execution_count": 3,
   "metadata": {},
   "outputs": [
    {
     "data": {
      "text/html": [
       "<div>\n",
       "<style scoped>\n",
       "    .dataframe tbody tr th:only-of-type {\n",
       "        vertical-align: middle;\n",
       "    }\n",
       "\n",
       "    .dataframe tbody tr th {\n",
       "        vertical-align: top;\n",
       "    }\n",
       "\n",
       "    .dataframe thead th {\n",
       "        text-align: right;\n",
       "    }\n",
       "</style>\n",
       "<table border=\"1\" class=\"dataframe\">\n",
       "  <thead>\n",
       "    <tr style=\"text-align: right;\">\n",
       "      <th></th>\n",
       "      <th>DateCrawled</th>\n",
       "      <th>Price</th>\n",
       "      <th>VehicleType</th>\n",
       "      <th>RegistrationYear</th>\n",
       "      <th>Gearbox</th>\n",
       "      <th>Power</th>\n",
       "      <th>Model</th>\n",
       "      <th>Kilometer</th>\n",
       "      <th>RegistrationMonth</th>\n",
       "      <th>FuelType</th>\n",
       "      <th>Brand</th>\n",
       "      <th>NotRepaired</th>\n",
       "      <th>DateCreated</th>\n",
       "      <th>NumberOfPictures</th>\n",
       "      <th>PostalCode</th>\n",
       "      <th>LastSeen</th>\n",
       "    </tr>\n",
       "  </thead>\n",
       "  <tbody>\n",
       "    <tr>\n",
       "      <td>0</td>\n",
       "      <td>2016-03-24 11:52:17</td>\n",
       "      <td>480</td>\n",
       "      <td>NaN</td>\n",
       "      <td>1993</td>\n",
       "      <td>manual</td>\n",
       "      <td>0</td>\n",
       "      <td>golf</td>\n",
       "      <td>150000</td>\n",
       "      <td>0</td>\n",
       "      <td>petrol</td>\n",
       "      <td>volkswagen</td>\n",
       "      <td>NaN</td>\n",
       "      <td>2016-03-24 00:00:00</td>\n",
       "      <td>0</td>\n",
       "      <td>70435</td>\n",
       "      <td>2016-04-07 03:16:57</td>\n",
       "    </tr>\n",
       "    <tr>\n",
       "      <td>1</td>\n",
       "      <td>2016-03-24 10:58:45</td>\n",
       "      <td>18300</td>\n",
       "      <td>coupe</td>\n",
       "      <td>2011</td>\n",
       "      <td>manual</td>\n",
       "      <td>190</td>\n",
       "      <td>NaN</td>\n",
       "      <td>125000</td>\n",
       "      <td>5</td>\n",
       "      <td>gasoline</td>\n",
       "      <td>audi</td>\n",
       "      <td>yes</td>\n",
       "      <td>2016-03-24 00:00:00</td>\n",
       "      <td>0</td>\n",
       "      <td>66954</td>\n",
       "      <td>2016-04-07 01:46:50</td>\n",
       "    </tr>\n",
       "    <tr>\n",
       "      <td>2</td>\n",
       "      <td>2016-03-14 12:52:21</td>\n",
       "      <td>9800</td>\n",
       "      <td>suv</td>\n",
       "      <td>2004</td>\n",
       "      <td>auto</td>\n",
       "      <td>163</td>\n",
       "      <td>grand</td>\n",
       "      <td>125000</td>\n",
       "      <td>8</td>\n",
       "      <td>gasoline</td>\n",
       "      <td>jeep</td>\n",
       "      <td>NaN</td>\n",
       "      <td>2016-03-14 00:00:00</td>\n",
       "      <td>0</td>\n",
       "      <td>90480</td>\n",
       "      <td>2016-04-05 12:47:46</td>\n",
       "    </tr>\n",
       "    <tr>\n",
       "      <td>3</td>\n",
       "      <td>2016-03-17 16:54:04</td>\n",
       "      <td>1500</td>\n",
       "      <td>small</td>\n",
       "      <td>2001</td>\n",
       "      <td>manual</td>\n",
       "      <td>75</td>\n",
       "      <td>golf</td>\n",
       "      <td>150000</td>\n",
       "      <td>6</td>\n",
       "      <td>petrol</td>\n",
       "      <td>volkswagen</td>\n",
       "      <td>no</td>\n",
       "      <td>2016-03-17 00:00:00</td>\n",
       "      <td>0</td>\n",
       "      <td>91074</td>\n",
       "      <td>2016-03-17 17:40:17</td>\n",
       "    </tr>\n",
       "    <tr>\n",
       "      <td>4</td>\n",
       "      <td>2016-03-31 17:25:20</td>\n",
       "      <td>3600</td>\n",
       "      <td>small</td>\n",
       "      <td>2008</td>\n",
       "      <td>manual</td>\n",
       "      <td>69</td>\n",
       "      <td>fabia</td>\n",
       "      <td>90000</td>\n",
       "      <td>7</td>\n",
       "      <td>gasoline</td>\n",
       "      <td>skoda</td>\n",
       "      <td>no</td>\n",
       "      <td>2016-03-31 00:00:00</td>\n",
       "      <td>0</td>\n",
       "      <td>60437</td>\n",
       "      <td>2016-04-06 10:17:21</td>\n",
       "    </tr>\n",
       "  </tbody>\n",
       "</table>\n",
       "</div>"
      ],
      "text/plain": [
       "           DateCrawled  Price VehicleType  RegistrationYear Gearbox  Power  \\\n",
       "0  2016-03-24 11:52:17    480         NaN              1993  manual      0   \n",
       "1  2016-03-24 10:58:45  18300       coupe              2011  manual    190   \n",
       "2  2016-03-14 12:52:21   9800         suv              2004    auto    163   \n",
       "3  2016-03-17 16:54:04   1500       small              2001  manual     75   \n",
       "4  2016-03-31 17:25:20   3600       small              2008  manual     69   \n",
       "\n",
       "   Model  Kilometer  RegistrationMonth  FuelType       Brand NotRepaired  \\\n",
       "0   golf     150000                  0    petrol  volkswagen         NaN   \n",
       "1    NaN     125000                  5  gasoline        audi         yes   \n",
       "2  grand     125000                  8  gasoline        jeep         NaN   \n",
       "3   golf     150000                  6    petrol  volkswagen          no   \n",
       "4  fabia      90000                  7  gasoline       skoda          no   \n",
       "\n",
       "           DateCreated  NumberOfPictures  PostalCode             LastSeen  \n",
       "0  2016-03-24 00:00:00                 0       70435  2016-04-07 03:16:57  \n",
       "1  2016-03-24 00:00:00                 0       66954  2016-04-07 01:46:50  \n",
       "2  2016-03-14 00:00:00                 0       90480  2016-04-05 12:47:46  \n",
       "3  2016-03-17 00:00:00                 0       91074  2016-03-17 17:40:17  \n",
       "4  2016-03-31 00:00:00                 0       60437  2016-04-06 10:17:21  "
      ]
     },
     "execution_count": 3,
     "metadata": {},
     "output_type": "execute_result"
    }
   ],
   "source": [
    "# Первые 5 строк\n",
    "auto.head()"
   ]
  },
  {
   "cell_type": "code",
   "execution_count": 4,
   "metadata": {},
   "outputs": [
    {
     "name": "stdout",
     "output_type": "stream",
     "text": [
      "<class 'pandas.core.frame.DataFrame'>\n",
      "RangeIndex: 354369 entries, 0 to 354368\n",
      "Data columns (total 16 columns):\n",
      "DateCrawled          354369 non-null object\n",
      "Price                354369 non-null int64\n",
      "VehicleType          316879 non-null object\n",
      "RegistrationYear     354369 non-null int64\n",
      "Gearbox              334536 non-null object\n",
      "Power                354369 non-null int64\n",
      "Model                334664 non-null object\n",
      "Kilometer            354369 non-null int64\n",
      "RegistrationMonth    354369 non-null int64\n",
      "FuelType             321474 non-null object\n",
      "Brand                354369 non-null object\n",
      "NotRepaired          283215 non-null object\n",
      "DateCreated          354369 non-null object\n",
      "NumberOfPictures     354369 non-null int64\n",
      "PostalCode           354369 non-null int64\n",
      "LastSeen             354369 non-null object\n",
      "dtypes: int64(7), object(9)\n",
      "memory usage: 43.3+ MB\n"
     ]
    }
   ],
   "source": [
    "# Информация\n",
    "auto.info()"
   ]
  },
  {
   "cell_type": "markdown",
   "metadata": {},
   "source": [
    "Что мы имеем из визуального анализа на данном этапе:\n",
    " - DateCrawled (дата скачивания анкеты) этот признак для обучения модели нам не понадобится;\n",
    " - Price (цена) этот признак у нас целевой, в этом столбце у нас нет пропущенных значений;\n",
    " - VehicleType (тип кузова) это признак нам необходим для обучения, в этом столбце имеются пропущенные значения;\n",
    " - RegistrationYear (год регистрации) этот признак важен для обучения, пропущенных значений нет;\n",
    " - Gearbox (тип к.п.) этот признак важен для обучения, имеются пропущенные значения;\n",
    " - Power (мощность л.с.) важный признак для обучения, нет пропущенных значений;\n",
    " - Model этот признак важен для обучения,имеются пропущенные значения;\n",
    " - Kilometer (пробег) признак важен, пропусков нет;\n",
    " - RegistrationMonth (месяц регистрации) признак важен для обучения, пропусков нет;\n",
    " - FuelType (тип топлива) признак важен для обучения, имеются пропуски;\n",
    " - Brand признак важен для обучения, пропусков нет;\n",
    " - NotRepaired (ремонт да/нет) важный признак для обучения, большое количество пропущенных значений, более 20%;\n",
    " - DateCreated (дата создания анкеты) не важный признак;\n",
    " - NumberOfPictures (количество фотографий автомобиля) неважный признак;\n",
    " - PostalCode (почтовый индекс) не важный признак;\n",
    " - LastSeen (последняя активность) не важный признак.\n",
    " \n",
    " Так же в датасете несколько признаков категориальных, следовательно необходимо будет применить технику прямого кодирования.\n",
    " \n",
    " Пропущенные значения имеются исключительно в категориальных признаках."
   ]
  },
  {
   "cell_type": "code",
   "execution_count": 5,
   "metadata": {},
   "outputs": [
    {
     "data": {
      "text/plain": [
       "4"
      ]
     },
     "execution_count": 5,
     "metadata": {},
     "output_type": "execute_result"
    }
   ],
   "source": [
    "# Наличие дубликатов\n",
    "auto.duplicated().sum()"
   ]
  },
  {
   "cell_type": "code",
   "execution_count": 6,
   "metadata": {},
   "outputs": [],
   "source": [
    "# Избавимся от дубликатов\n",
    "auto = auto.drop_duplicates().reset_index(drop=True)"
   ]
  },
  {
   "cell_type": "code",
   "execution_count": 7,
   "metadata": {},
   "outputs": [
    {
     "data": {
      "text/plain": [
       "array([1000, 1001, 1039, 1111, 1200, 1234, 1253, 1255, 1300, 1400, 1500,\n",
       "       1600, 1602, 1688, 1800, 1910, 1915, 1919, 1920, 1923, 1925, 1927,\n",
       "       1928, 1929, 1930, 1931, 1932, 1933, 1934, 1935, 1936, 1937, 1938,\n",
       "       1940, 1941, 1942, 1943, 1944, 1945, 1946, 1947, 1948, 1949, 1950,\n",
       "       1951, 1952, 1953, 1954, 1955, 1956, 1957, 1958, 1959, 1960, 1961,\n",
       "       1962, 1963, 1964, 1965, 1966, 1967, 1968, 1969, 1970, 1971, 1972,\n",
       "       1973, 1974, 1975, 1976, 1977, 1978, 1979, 1980, 1981, 1982, 1983,\n",
       "       1984, 1985, 1986, 1987, 1988, 1989, 1990, 1991, 1992, 1993, 1994,\n",
       "       1995, 1996, 1997, 1998, 1999, 2000, 2001, 2002, 2003, 2004, 2005,\n",
       "       2006, 2007, 2008, 2009, 2010, 2011, 2012, 2013, 2014, 2015, 2016,\n",
       "       2017, 2018, 2019, 2066, 2200, 2222, 2290, 2500, 2800, 2900, 3000,\n",
       "       3200, 3500, 3700, 3800, 4000, 4100, 4500, 4800, 5000, 5300, 5555,\n",
       "       5600, 5900, 5911, 6000, 6500, 7000, 7100, 7500, 7800, 8000, 8200,\n",
       "       8455, 8500, 8888, 9000, 9229, 9450, 9996, 9999])"
      ]
     },
     "execution_count": 7,
     "metadata": {},
     "output_type": "execute_result"
    }
   ],
   "source": [
    "# Значения признака \"год выпуска\"\n",
    "auto['RegistrationYear'].sort_values().unique()"
   ]
  },
  {
   "cell_type": "code",
   "execution_count": 8,
   "metadata": {},
   "outputs": [],
   "source": [
    "# Сделаем срез с адекватными годами выпуска\n",
    "auto = auto.query('1900 < RegistrationYear < 2021')"
   ]
  },
  {
   "cell_type": "code",
   "execution_count": 9,
   "metadata": {},
   "outputs": [
    {
     "data": {
      "text/plain": [
       "array([ 0,  1,  2,  3,  4,  5,  6,  7,  8,  9, 10, 11, 12])"
      ]
     },
     "execution_count": 9,
     "metadata": {},
     "output_type": "execute_result"
    }
   ],
   "source": [
    "# Значения признака \"месяц регистрации\"\n",
    "auto['RegistrationMonth'].sort_values().unique()"
   ]
  },
  {
   "cell_type": "code",
   "execution_count": 10,
   "metadata": {},
   "outputs": [
    {
     "data": {
      "text/html": [
       "<div>\n",
       "<style scoped>\n",
       "    .dataframe tbody tr th:only-of-type {\n",
       "        vertical-align: middle;\n",
       "    }\n",
       "\n",
       "    .dataframe tbody tr th {\n",
       "        vertical-align: top;\n",
       "    }\n",
       "\n",
       "    .dataframe thead th {\n",
       "        text-align: right;\n",
       "    }\n",
       "</style>\n",
       "<table border=\"1\" class=\"dataframe\">\n",
       "  <thead>\n",
       "    <tr style=\"text-align: right;\">\n",
       "      <th></th>\n",
       "      <th>DateCrawled</th>\n",
       "      <th>Price</th>\n",
       "      <th>VehicleType</th>\n",
       "      <th>RegistrationYear</th>\n",
       "      <th>Gearbox</th>\n",
       "      <th>Power</th>\n",
       "      <th>Model</th>\n",
       "      <th>Kilometer</th>\n",
       "      <th>RegistrationMonth</th>\n",
       "      <th>FuelType</th>\n",
       "      <th>Brand</th>\n",
       "      <th>NotRepaired</th>\n",
       "      <th>DateCreated</th>\n",
       "      <th>NumberOfPictures</th>\n",
       "      <th>PostalCode</th>\n",
       "      <th>LastSeen</th>\n",
       "    </tr>\n",
       "  </thead>\n",
       "  <tbody>\n",
       "    <tr>\n",
       "      <td>0</td>\n",
       "      <td>2016-03-24 11:52:17</td>\n",
       "      <td>480</td>\n",
       "      <td>NaN</td>\n",
       "      <td>1993</td>\n",
       "      <td>manual</td>\n",
       "      <td>0</td>\n",
       "      <td>golf</td>\n",
       "      <td>150000</td>\n",
       "      <td>0</td>\n",
       "      <td>petrol</td>\n",
       "      <td>volkswagen</td>\n",
       "      <td>NaN</td>\n",
       "      <td>2016-03-24 00:00:00</td>\n",
       "      <td>0</td>\n",
       "      <td>70435</td>\n",
       "      <td>2016-04-07 03:16:57</td>\n",
       "    </tr>\n",
       "    <tr>\n",
       "      <td>9</td>\n",
       "      <td>2016-03-17 10:53:50</td>\n",
       "      <td>999</td>\n",
       "      <td>small</td>\n",
       "      <td>1998</td>\n",
       "      <td>manual</td>\n",
       "      <td>101</td>\n",
       "      <td>golf</td>\n",
       "      <td>150000</td>\n",
       "      <td>0</td>\n",
       "      <td>NaN</td>\n",
       "      <td>volkswagen</td>\n",
       "      <td>NaN</td>\n",
       "      <td>2016-03-17 00:00:00</td>\n",
       "      <td>0</td>\n",
       "      <td>27472</td>\n",
       "      <td>2016-03-31 17:17:06</td>\n",
       "    </tr>\n",
       "    <tr>\n",
       "      <td>15</td>\n",
       "      <td>2016-03-11 21:39:15</td>\n",
       "      <td>450</td>\n",
       "      <td>small</td>\n",
       "      <td>1910</td>\n",
       "      <td>NaN</td>\n",
       "      <td>0</td>\n",
       "      <td>ka</td>\n",
       "      <td>5000</td>\n",
       "      <td>0</td>\n",
       "      <td>petrol</td>\n",
       "      <td>ford</td>\n",
       "      <td>NaN</td>\n",
       "      <td>2016-03-11 00:00:00</td>\n",
       "      <td>0</td>\n",
       "      <td>24148</td>\n",
       "      <td>2016-03-19 08:46:47</td>\n",
       "    </tr>\n",
       "    <tr>\n",
       "      <td>16</td>\n",
       "      <td>2016-04-01 12:46:46</td>\n",
       "      <td>300</td>\n",
       "      <td>NaN</td>\n",
       "      <td>2016</td>\n",
       "      <td>NaN</td>\n",
       "      <td>60</td>\n",
       "      <td>polo</td>\n",
       "      <td>150000</td>\n",
       "      <td>0</td>\n",
       "      <td>petrol</td>\n",
       "      <td>volkswagen</td>\n",
       "      <td>NaN</td>\n",
       "      <td>2016-04-01 00:00:00</td>\n",
       "      <td>0</td>\n",
       "      <td>38871</td>\n",
       "      <td>2016-04-01 12:46:46</td>\n",
       "    </tr>\n",
       "    <tr>\n",
       "      <td>36</td>\n",
       "      <td>2016-03-11 11:50:37</td>\n",
       "      <td>1600</td>\n",
       "      <td>other</td>\n",
       "      <td>1991</td>\n",
       "      <td>manual</td>\n",
       "      <td>75</td>\n",
       "      <td>kadett</td>\n",
       "      <td>70000</td>\n",
       "      <td>0</td>\n",
       "      <td>NaN</td>\n",
       "      <td>opel</td>\n",
       "      <td>NaN</td>\n",
       "      <td>2016-03-11 00:00:00</td>\n",
       "      <td>0</td>\n",
       "      <td>2943</td>\n",
       "      <td>2016-04-07 03:46:09</td>\n",
       "    </tr>\n",
       "    <tr>\n",
       "      <td>...</td>\n",
       "      <td>...</td>\n",
       "      <td>...</td>\n",
       "      <td>...</td>\n",
       "      <td>...</td>\n",
       "      <td>...</td>\n",
       "      <td>...</td>\n",
       "      <td>...</td>\n",
       "      <td>...</td>\n",
       "      <td>...</td>\n",
       "      <td>...</td>\n",
       "      <td>...</td>\n",
       "      <td>...</td>\n",
       "      <td>...</td>\n",
       "      <td>...</td>\n",
       "      <td>...</td>\n",
       "      <td>...</td>\n",
       "    </tr>\n",
       "    <tr>\n",
       "      <td>354301</td>\n",
       "      <td>2016-04-03 13:46:24</td>\n",
       "      <td>3500</td>\n",
       "      <td>NaN</td>\n",
       "      <td>1995</td>\n",
       "      <td>NaN</td>\n",
       "      <td>0</td>\n",
       "      <td>polo</td>\n",
       "      <td>150000</td>\n",
       "      <td>0</td>\n",
       "      <td>NaN</td>\n",
       "      <td>volkswagen</td>\n",
       "      <td>NaN</td>\n",
       "      <td>2016-04-03 00:00:00</td>\n",
       "      <td>0</td>\n",
       "      <td>74579</td>\n",
       "      <td>2016-04-05 12:44:38</td>\n",
       "    </tr>\n",
       "    <tr>\n",
       "      <td>354314</td>\n",
       "      <td>2016-03-15 19:57:11</td>\n",
       "      <td>400</td>\n",
       "      <td>wagon</td>\n",
       "      <td>1991</td>\n",
       "      <td>manual</td>\n",
       "      <td>0</td>\n",
       "      <td>legacy</td>\n",
       "      <td>150000</td>\n",
       "      <td>0</td>\n",
       "      <td>petrol</td>\n",
       "      <td>subaru</td>\n",
       "      <td>NaN</td>\n",
       "      <td>2016-03-15 00:00:00</td>\n",
       "      <td>0</td>\n",
       "      <td>24558</td>\n",
       "      <td>2016-03-19 15:49:00</td>\n",
       "    </tr>\n",
       "    <tr>\n",
       "      <td>354322</td>\n",
       "      <td>2016-03-31 19:36:18</td>\n",
       "      <td>1300</td>\n",
       "      <td>small</td>\n",
       "      <td>1999</td>\n",
       "      <td>manual</td>\n",
       "      <td>75</td>\n",
       "      <td>2_reihe</td>\n",
       "      <td>125000</td>\n",
       "      <td>0</td>\n",
       "      <td>NaN</td>\n",
       "      <td>peugeot</td>\n",
       "      <td>NaN</td>\n",
       "      <td>2016-03-31 00:00:00</td>\n",
       "      <td>0</td>\n",
       "      <td>35102</td>\n",
       "      <td>2016-04-06 13:44:44</td>\n",
       "    </tr>\n",
       "    <tr>\n",
       "      <td>354325</td>\n",
       "      <td>2016-03-30 20:55:30</td>\n",
       "      <td>350</td>\n",
       "      <td>small</td>\n",
       "      <td>1996</td>\n",
       "      <td>NaN</td>\n",
       "      <td>65</td>\n",
       "      <td>punto</td>\n",
       "      <td>150000</td>\n",
       "      <td>0</td>\n",
       "      <td>NaN</td>\n",
       "      <td>fiat</td>\n",
       "      <td>NaN</td>\n",
       "      <td>2016-03-30 00:00:00</td>\n",
       "      <td>0</td>\n",
       "      <td>25436</td>\n",
       "      <td>2016-04-07 13:50:41</td>\n",
       "    </tr>\n",
       "    <tr>\n",
       "      <td>354333</td>\n",
       "      <td>2016-03-26 14:38:18</td>\n",
       "      <td>11500</td>\n",
       "      <td>sedan</td>\n",
       "      <td>2004</td>\n",
       "      <td>auto</td>\n",
       "      <td>445</td>\n",
       "      <td>7er</td>\n",
       "      <td>125000</td>\n",
       "      <td>0</td>\n",
       "      <td>petrol</td>\n",
       "      <td>bmw</td>\n",
       "      <td>NaN</td>\n",
       "      <td>2016-03-26 00:00:00</td>\n",
       "      <td>0</td>\n",
       "      <td>4107</td>\n",
       "      <td>2016-04-06 20:45:16</td>\n",
       "    </tr>\n",
       "  </tbody>\n",
       "</table>\n",
       "<p>37220 rows × 16 columns</p>\n",
       "</div>"
      ],
      "text/plain": [
       "                DateCrawled  Price VehicleType  RegistrationYear Gearbox  \\\n",
       "0       2016-03-24 11:52:17    480         NaN              1993  manual   \n",
       "9       2016-03-17 10:53:50    999       small              1998  manual   \n",
       "15      2016-03-11 21:39:15    450       small              1910     NaN   \n",
       "16      2016-04-01 12:46:46    300         NaN              2016     NaN   \n",
       "36      2016-03-11 11:50:37   1600       other              1991  manual   \n",
       "...                     ...    ...         ...               ...     ...   \n",
       "354301  2016-04-03 13:46:24   3500         NaN              1995     NaN   \n",
       "354314  2016-03-15 19:57:11    400       wagon              1991  manual   \n",
       "354322  2016-03-31 19:36:18   1300       small              1999  manual   \n",
       "354325  2016-03-30 20:55:30    350       small              1996     NaN   \n",
       "354333  2016-03-26 14:38:18  11500       sedan              2004    auto   \n",
       "\n",
       "        Power    Model  Kilometer  RegistrationMonth FuelType       Brand  \\\n",
       "0           0     golf     150000                  0   petrol  volkswagen   \n",
       "9         101     golf     150000                  0      NaN  volkswagen   \n",
       "15          0       ka       5000                  0   petrol        ford   \n",
       "16         60     polo     150000                  0   petrol  volkswagen   \n",
       "36         75   kadett      70000                  0      NaN        opel   \n",
       "...       ...      ...        ...                ...      ...         ...   \n",
       "354301      0     polo     150000                  0      NaN  volkswagen   \n",
       "354314      0   legacy     150000                  0   petrol      subaru   \n",
       "354322     75  2_reihe     125000                  0      NaN     peugeot   \n",
       "354325     65    punto     150000                  0      NaN        fiat   \n",
       "354333    445      7er     125000                  0   petrol         bmw   \n",
       "\n",
       "       NotRepaired          DateCreated  NumberOfPictures  PostalCode  \\\n",
       "0              NaN  2016-03-24 00:00:00                 0       70435   \n",
       "9              NaN  2016-03-17 00:00:00                 0       27472   \n",
       "15             NaN  2016-03-11 00:00:00                 0       24148   \n",
       "16             NaN  2016-04-01 00:00:00                 0       38871   \n",
       "36             NaN  2016-03-11 00:00:00                 0        2943   \n",
       "...            ...                  ...               ...         ...   \n",
       "354301         NaN  2016-04-03 00:00:00                 0       74579   \n",
       "354314         NaN  2016-03-15 00:00:00                 0       24558   \n",
       "354322         NaN  2016-03-31 00:00:00                 0       35102   \n",
       "354325         NaN  2016-03-30 00:00:00                 0       25436   \n",
       "354333         NaN  2016-03-26 00:00:00                 0        4107   \n",
       "\n",
       "                   LastSeen  \n",
       "0       2016-04-07 03:16:57  \n",
       "9       2016-03-31 17:17:06  \n",
       "15      2016-03-19 08:46:47  \n",
       "16      2016-04-01 12:46:46  \n",
       "36      2016-04-07 03:46:09  \n",
       "...                     ...  \n",
       "354301  2016-04-05 12:44:38  \n",
       "354314  2016-03-19 15:49:00  \n",
       "354322  2016-04-06 13:44:44  \n",
       "354325  2016-04-07 13:50:41  \n",
       "354333  2016-04-06 20:45:16  \n",
       "\n",
       "[37220 rows x 16 columns]"
      ]
     },
     "execution_count": 10,
     "metadata": {},
     "output_type": "execute_result"
    }
   ],
   "source": [
    "# Нулевые значения месяца регистрации \n",
    "auto[auto['RegistrationMonth'] == 0]"
   ]
  },
  {
   "cell_type": "code",
   "execution_count": 11,
   "metadata": {},
   "outputs": [],
   "source": [
    "# Сделаем срез с адекватными значениями месяца регистрации\n",
    "auto = auto.query('0 < RegistrationMonth')"
   ]
  },
  {
   "cell_type": "code",
   "execution_count": 12,
   "metadata": {},
   "outputs": [],
   "source": [
    "# Удалим из нашего датасета столбцы с неважными признаками\n",
    "auto.drop(['DateCrawled', 'DateCreated', 'LastSeen', 'PostalCode', 'NumberOfPictures'], axis=1, inplace=True)"
   ]
  },
  {
   "cell_type": "code",
   "execution_count": 13,
   "metadata": {},
   "outputs": [
    {
     "data": {
      "text/plain": [
       "array([    0,     1,     2, ..., 19998, 19999, 20000])"
      ]
     },
     "execution_count": 13,
     "metadata": {},
     "output_type": "execute_result"
    }
   ],
   "source": [
    "# Уникальные значения целевого столбца\n",
    "auto['Price'].sort_values().unique()"
   ]
  },
  {
   "cell_type": "code",
   "execution_count": 14,
   "metadata": {},
   "outputs": [
    {
     "data": {
      "text/html": [
       "<div>\n",
       "<style scoped>\n",
       "    .dataframe tbody tr th:only-of-type {\n",
       "        vertical-align: middle;\n",
       "    }\n",
       "\n",
       "    .dataframe tbody tr th {\n",
       "        vertical-align: top;\n",
       "    }\n",
       "\n",
       "    .dataframe thead th {\n",
       "        text-align: right;\n",
       "    }\n",
       "</style>\n",
       "<table border=\"1\" class=\"dataframe\">\n",
       "  <thead>\n",
       "    <tr style=\"text-align: right;\">\n",
       "      <th></th>\n",
       "      <th>Price</th>\n",
       "      <th>VehicleType</th>\n",
       "      <th>RegistrationYear</th>\n",
       "      <th>Gearbox</th>\n",
       "      <th>Power</th>\n",
       "      <th>Model</th>\n",
       "      <th>Kilometer</th>\n",
       "      <th>RegistrationMonth</th>\n",
       "      <th>FuelType</th>\n",
       "      <th>Brand</th>\n",
       "      <th>NotRepaired</th>\n",
       "    </tr>\n",
       "  </thead>\n",
       "  <tbody>\n",
       "    <tr>\n",
       "      <td>7</td>\n",
       "      <td>0</td>\n",
       "      <td>sedan</td>\n",
       "      <td>1980</td>\n",
       "      <td>manual</td>\n",
       "      <td>50</td>\n",
       "      <td>other</td>\n",
       "      <td>40000</td>\n",
       "      <td>7</td>\n",
       "      <td>petrol</td>\n",
       "      <td>volkswagen</td>\n",
       "      <td>no</td>\n",
       "    </tr>\n",
       "    <tr>\n",
       "      <td>40</td>\n",
       "      <td>0</td>\n",
       "      <td>NaN</td>\n",
       "      <td>1990</td>\n",
       "      <td>NaN</td>\n",
       "      <td>0</td>\n",
       "      <td>corsa</td>\n",
       "      <td>150000</td>\n",
       "      <td>1</td>\n",
       "      <td>petrol</td>\n",
       "      <td>opel</td>\n",
       "      <td>NaN</td>\n",
       "    </tr>\n",
       "    <tr>\n",
       "      <td>111</td>\n",
       "      <td>0</td>\n",
       "      <td>NaN</td>\n",
       "      <td>2017</td>\n",
       "      <td>manual</td>\n",
       "      <td>0</td>\n",
       "      <td>golf</td>\n",
       "      <td>5000</td>\n",
       "      <td>12</td>\n",
       "      <td>petrol</td>\n",
       "      <td>volkswagen</td>\n",
       "      <td>NaN</td>\n",
       "    </tr>\n",
       "    <tr>\n",
       "      <td>152</td>\n",
       "      <td>0</td>\n",
       "      <td>bus</td>\n",
       "      <td>2004</td>\n",
       "      <td>manual</td>\n",
       "      <td>101</td>\n",
       "      <td>meriva</td>\n",
       "      <td>150000</td>\n",
       "      <td>10</td>\n",
       "      <td>lpg</td>\n",
       "      <td>opel</td>\n",
       "      <td>yes</td>\n",
       "    </tr>\n",
       "    <tr>\n",
       "      <td>466</td>\n",
       "      <td>0</td>\n",
       "      <td>NaN</td>\n",
       "      <td>2016</td>\n",
       "      <td>auto</td>\n",
       "      <td>197</td>\n",
       "      <td>3er</td>\n",
       "      <td>150000</td>\n",
       "      <td>12</td>\n",
       "      <td>gasoline</td>\n",
       "      <td>bmw</td>\n",
       "      <td>no</td>\n",
       "    </tr>\n",
       "    <tr>\n",
       "      <td>...</td>\n",
       "      <td>...</td>\n",
       "      <td>...</td>\n",
       "      <td>...</td>\n",
       "      <td>...</td>\n",
       "      <td>...</td>\n",
       "      <td>...</td>\n",
       "      <td>...</td>\n",
       "      <td>...</td>\n",
       "      <td>...</td>\n",
       "      <td>...</td>\n",
       "      <td>...</td>\n",
       "    </tr>\n",
       "    <tr>\n",
       "      <td>354154</td>\n",
       "      <td>0</td>\n",
       "      <td>NaN</td>\n",
       "      <td>2000</td>\n",
       "      <td>manual</td>\n",
       "      <td>55</td>\n",
       "      <td>punto</td>\n",
       "      <td>5000</td>\n",
       "      <td>5</td>\n",
       "      <td>petrol</td>\n",
       "      <td>fiat</td>\n",
       "      <td>yes</td>\n",
       "    </tr>\n",
       "    <tr>\n",
       "      <td>354234</td>\n",
       "      <td>0</td>\n",
       "      <td>small</td>\n",
       "      <td>2002</td>\n",
       "      <td>manual</td>\n",
       "      <td>60</td>\n",
       "      <td>fiesta</td>\n",
       "      <td>150000</td>\n",
       "      <td>3</td>\n",
       "      <td>petrol</td>\n",
       "      <td>ford</td>\n",
       "      <td>NaN</td>\n",
       "    </tr>\n",
       "    <tr>\n",
       "      <td>354244</td>\n",
       "      <td>0</td>\n",
       "      <td>small</td>\n",
       "      <td>1999</td>\n",
       "      <td>manual</td>\n",
       "      <td>53</td>\n",
       "      <td>swift</td>\n",
       "      <td>150000</td>\n",
       "      <td>3</td>\n",
       "      <td>petrol</td>\n",
       "      <td>suzuki</td>\n",
       "      <td>NaN</td>\n",
       "    </tr>\n",
       "    <tr>\n",
       "      <td>354273</td>\n",
       "      <td>0</td>\n",
       "      <td>small</td>\n",
       "      <td>1999</td>\n",
       "      <td>manual</td>\n",
       "      <td>37</td>\n",
       "      <td>arosa</td>\n",
       "      <td>150000</td>\n",
       "      <td>7</td>\n",
       "      <td>petrol</td>\n",
       "      <td>seat</td>\n",
       "      <td>yes</td>\n",
       "    </tr>\n",
       "    <tr>\n",
       "      <td>354360</td>\n",
       "      <td>0</td>\n",
       "      <td>NaN</td>\n",
       "      <td>2005</td>\n",
       "      <td>manual</td>\n",
       "      <td>0</td>\n",
       "      <td>colt</td>\n",
       "      <td>150000</td>\n",
       "      <td>7</td>\n",
       "      <td>petrol</td>\n",
       "      <td>mitsubishi</td>\n",
       "      <td>yes</td>\n",
       "    </tr>\n",
       "  </tbody>\n",
       "</table>\n",
       "<p>6292 rows × 11 columns</p>\n",
       "</div>"
      ],
      "text/plain": [
       "        Price VehicleType  RegistrationYear Gearbox  Power   Model  Kilometer  \\\n",
       "7           0       sedan              1980  manual     50   other      40000   \n",
       "40          0         NaN              1990     NaN      0   corsa     150000   \n",
       "111         0         NaN              2017  manual      0    golf       5000   \n",
       "152         0         bus              2004  manual    101  meriva     150000   \n",
       "466         0         NaN              2016    auto    197     3er     150000   \n",
       "...       ...         ...               ...     ...    ...     ...        ...   \n",
       "354154      0         NaN              2000  manual     55   punto       5000   \n",
       "354234      0       small              2002  manual     60  fiesta     150000   \n",
       "354244      0       small              1999  manual     53   swift     150000   \n",
       "354273      0       small              1999  manual     37   arosa     150000   \n",
       "354360      0         NaN              2005  manual      0    colt     150000   \n",
       "\n",
       "        RegistrationMonth  FuelType       Brand NotRepaired  \n",
       "7                       7    petrol  volkswagen          no  \n",
       "40                      1    petrol        opel         NaN  \n",
       "111                    12    petrol  volkswagen         NaN  \n",
       "152                    10       lpg        opel         yes  \n",
       "466                    12  gasoline         bmw          no  \n",
       "...                   ...       ...         ...         ...  \n",
       "354154                  5    petrol        fiat         yes  \n",
       "354234                  3    petrol        ford         NaN  \n",
       "354244                  3    petrol      suzuki         NaN  \n",
       "354273                  7    petrol        seat         yes  \n",
       "354360                  7    petrol  mitsubishi         yes  \n",
       "\n",
       "[6292 rows x 11 columns]"
      ]
     },
     "execution_count": 14,
     "metadata": {},
     "output_type": "execute_result"
    }
   ],
   "source": [
    "# Нулевые значения в цене\n",
    "auto[auto['Price'] == 0]"
   ]
  },
  {
   "cell_type": "code",
   "execution_count": 15,
   "metadata": {},
   "outputs": [
    {
     "data": {
      "image/png": "[encoded data removed]",
      "text/plain": [
       "<Figure size 1080x72 with 1 Axes>"
      ]
     },
     "metadata": {
      "needs_background": "light"
     },
     "output_type": "display_data"
    }
   ],
   "source": [
    "# Ящик с усами для Price\n",
    "plt.figure(figsize=(15,1))\n",
    "sns.boxplot(auto['Price'], orient='h')\n",
    "plt.title('Цена', fontsize=10)\n",
    "plt.grid(True)\n",
    "plt.show()"
   ]
  },
  {
   "cell_type": "code",
   "execution_count": 16,
   "metadata": {},
   "outputs": [
    {
     "data": {
      "text/plain": [
       "<matplotlib.axes._subplots.AxesSubplot at 0x7f0d89ab24d0>"
      ]
     },
     "execution_count": 16,
     "metadata": {},
     "output_type": "execute_result"
    },
    {
     "data": {
      "image/png": "[encoded data removed]",
      "text/plain": [
       "<Figure size 432x288 with 1 Axes>"
      ]
     },
     "metadata": {
      "needs_background": "light"
     },
     "output_type": "display_data"
    }
   ],
   "source": [
    "# Гистограмма распределения\n",
    "auto['Price'].hist(bins=200)"
   ]
  },
  {
   "cell_type": "code",
   "execution_count": 17,
   "metadata": {},
   "outputs": [
    {
     "data": {
      "text/plain": [
       "count    316974.000000\n",
       "mean       4712.542578\n",
       "std        4585.623188\n",
       "min           0.000000\n",
       "25%        1250.000000\n",
       "50%        2999.000000\n",
       "75%        6850.000000\n",
       "max       20000.000000\n",
       "Name: Price, dtype: float64"
      ]
     },
     "execution_count": 17,
     "metadata": {},
     "output_type": "execute_result"
    }
   ],
   "source": [
    "# Список характерных значений\n",
    "auto['Price'].describe()"
   ]
  },
  {
   "cell_type": "markdown",
   "metadata": {},
   "source": [
    "Что можно сказать о целевом признаке:\n",
    "- есть очень странный пик около 0; \n",
    "- диаграмма размаха скошена вправо;\n",
    "- распределение скорее экспоненциональное;\n",
    "- значения идут сериями по несколько.\n",
    "\n",
    "Возможно, сбор данных был произведен неправильно, так как ожидалось нормальное распределение цены. "
   ]
  },
  {
   "cell_type": "code",
   "execution_count": 18,
   "metadata": {},
   "outputs": [],
   "source": [
    "# Сделаем более правдоподобный срез, на которм цена будет более 200, но менее 15500\n",
    "auto = auto.query('15500  > Price > 200')"
   ]
  },
  {
   "cell_type": "code",
   "execution_count": 19,
   "metadata": {},
   "outputs": [
    {
     "data": {
      "image/png": "[encoded data removed]",
      "text/plain": [
       "<Figure size 1080x72 with 1 Axes>"
      ]
     },
     "metadata": {
      "needs_background": "light"
     },
     "output_type": "display_data"
    }
   ],
   "source": [
    "# Ящик с усами для Price\n",
    "plt.figure(figsize=(15,1))\n",
    "sns.boxplot(auto['Power'], orient='h')\n",
    "plt.title('Мощность', fontsize=10)\n",
    "plt.grid(True)\n",
    "plt.show()"
   ]
  },
  {
   "cell_type": "markdown",
   "metadata": {},
   "source": [
    "Неадекватно выглядят данные по мощности, сделаем срез по мощности до 1500, т.к. автомобилей с такой мощностью не бывает."
   ]
  },
  {
   "cell_type": "code",
   "execution_count": 20,
   "metadata": {},
   "outputs": [],
   "source": [
    "# Сделаем более правдоподобный срез, на которм мощность будет менее 1500\n",
    "auto = auto.query('1500  > Power')"
   ]
  },
  {
   "cell_type": "code",
   "execution_count": 21,
   "metadata": {},
   "outputs": [],
   "source": [
    "# Сброс индексации\n",
    "auto.index = range(len(auto.index))"
   ]
  },
  {
   "cell_type": "code",
   "execution_count": 22,
   "metadata": {},
   "outputs": [
    {
     "data": {
      "image/png": "[encoded data removed]",
      "text/plain": [
       "<Figure size 1080x72 with 1 Axes>"
      ]
     },
     "metadata": {
      "needs_background": "light"
     },
     "output_type": "display_data"
    },
    {
     "data": {
      "image/png": "[encoded data removed]",
      "text/plain": [
       "<Figure size 1080x216 with 1 Axes>"
      ]
     },
     "metadata": {
      "needs_background": "light"
     },
     "output_type": "display_data"
    },
    {
     "data": {
      "image/png": "[encoded data removed]",
      "text/plain": [
       "<Figure size 1080x72 with 1 Axes>"
      ]
     },
     "metadata": {
      "needs_background": "light"
     },
     "output_type": "display_data"
    },
    {
     "data": {
      "image/png": "[encoded data removed]",
      "text/plain": [
       "<Figure size 1080x216 with 1 Axes>"
      ]
     },
     "metadata": {
      "needs_background": "light"
     },
     "output_type": "display_data"
    },
    {
     "data": {
      "image/png": "[encoded data removed]",
      "text/plain": [
       "<Figure size 1080x72 with 1 Axes>"
      ]
     },
     "metadata": {
      "needs_background": "light"
     },
     "output_type": "display_data"
    },
    {
     "data": {
      "image/png": "[encoded data removed]",
      "text/plain": [
       "<Figure size 1080x216 with 1 Axes>"
      ]
     },
     "metadata": {
      "needs_background": "light"
     },
     "output_type": "display_data"
    },
    {
     "data": {
      "image/png": "[encoded data removed]",
      "text/plain": [
       "<Figure size 1080x72 with 1 Axes>"
      ]
     },
     "metadata": {
      "needs_background": "light"
     },
     "output_type": "display_data"
    },
    {
     "data": {
      "image/png": "[encoded data removed]",
      "text/plain": [
       "<Figure size 1080x216 with 1 Axes>"
      ]
     },
     "metadata": {
      "needs_background": "light"
     },
     "output_type": "display_data"
    },
    {
     "data": {
      "image/png": "[encoded data removed]",
      "text/plain": [
       "<Figure size 1080x72 with 1 Axes>"
      ]
     },
     "metadata": {
      "needs_background": "light"
     },
     "output_type": "display_data"
    },
    {
     "data": {
      "image/png": "[encoded data removed]",
      "text/plain": [
       "<Figure size 1080x216 with 1 Axes>"
      ]
     },
     "metadata": {
      "needs_background": "light"
     },
     "output_type": "display_data"
    }
   ],
   "source": [
    "# Еще раз посмотрим на данные после очистки\n",
    "for i in ['Price','RegistrationYear','Power','Kilometer','RegistrationMonth']:\n",
    "    plt.figure(figsize=(15,1))\n",
    "    sns.boxplot(auto[i]);\n",
    "    plt.show()\n",
    "    plt.figure(figsize=(15,3))\n",
    "    ax = sns.distplot(auto[i], rug=True);\n",
    "    plt.show()"
   ]
  },
  {
   "cell_type": "markdown",
   "metadata": {},
   "source": [
    "Чуть лучше выглядят данные, хоть и не идеальны на мой взгляд"
   ]
  },
  {
   "cell_type": "code",
   "execution_count": 23,
   "metadata": {},
   "outputs": [
    {
     "data": {
      "text/html": [
       "<div>\n",
       "<style scoped>\n",
       "    .dataframe tbody tr th:only-of-type {\n",
       "        vertical-align: middle;\n",
       "    }\n",
       "\n",
       "    .dataframe tbody tr th {\n",
       "        vertical-align: top;\n",
       "    }\n",
       "\n",
       "    .dataframe thead th {\n",
       "        text-align: right;\n",
       "    }\n",
       "</style>\n",
       "<table border=\"1\" class=\"dataframe\">\n",
       "  <thead>\n",
       "    <tr style=\"text-align: right;\">\n",
       "      <th></th>\n",
       "      <th>Price</th>\n",
       "      <th>RegistrationYear</th>\n",
       "      <th>Power</th>\n",
       "      <th>Kilometer</th>\n",
       "      <th>RegistrationMonth</th>\n",
       "    </tr>\n",
       "  </thead>\n",
       "  <tbody>\n",
       "    <tr>\n",
       "      <td>Price</td>\n",
       "      <td>1.000000</td>\n",
       "      <td>0.399607</td>\n",
       "      <td>0.420924</td>\n",
       "      <td>-0.338969</td>\n",
       "      <td>0.014383</td>\n",
       "    </tr>\n",
       "    <tr>\n",
       "      <td>RegistrationYear</td>\n",
       "      <td>0.399607</td>\n",
       "      <td>1.000000</td>\n",
       "      <td>0.066244</td>\n",
       "      <td>-0.212020</td>\n",
       "      <td>0.011441</td>\n",
       "    </tr>\n",
       "    <tr>\n",
       "      <td>Power</td>\n",
       "      <td>0.420924</td>\n",
       "      <td>0.066244</td>\n",
       "      <td>1.000000</td>\n",
       "      <td>0.110029</td>\n",
       "      <td>0.011320</td>\n",
       "    </tr>\n",
       "    <tr>\n",
       "      <td>Kilometer</td>\n",
       "      <td>-0.338969</td>\n",
       "      <td>-0.212020</td>\n",
       "      <td>0.110029</td>\n",
       "      <td>1.000000</td>\n",
       "      <td>0.008829</td>\n",
       "    </tr>\n",
       "    <tr>\n",
       "      <td>RegistrationMonth</td>\n",
       "      <td>0.014383</td>\n",
       "      <td>0.011441</td>\n",
       "      <td>0.011320</td>\n",
       "      <td>0.008829</td>\n",
       "      <td>1.000000</td>\n",
       "    </tr>\n",
       "  </tbody>\n",
       "</table>\n",
       "</div>"
      ],
      "text/plain": [
       "                      Price  RegistrationYear     Power  Kilometer  \\\n",
       "Price              1.000000          0.399607  0.420924  -0.338969   \n",
       "RegistrationYear   0.399607          1.000000  0.066244  -0.212020   \n",
       "Power              0.420924          0.066244  1.000000   0.110029   \n",
       "Kilometer         -0.338969         -0.212020  0.110029   1.000000   \n",
       "RegistrationMonth  0.014383          0.011441  0.011320   0.008829   \n",
       "\n",
       "                   RegistrationMonth  \n",
       "Price                       0.014383  \n",
       "RegistrationYear            0.011441  \n",
       "Power                       0.011320  \n",
       "Kilometer                   0.008829  \n",
       "RegistrationMonth           1.000000  "
      ]
     },
     "execution_count": 23,
     "metadata": {},
     "output_type": "execute_result"
    }
   ],
   "source": [
    "# Посмотрим на матрицу корреляций\n",
    "auto.corr()"
   ]
  },
  {
   "cell_type": "markdown",
   "metadata": {},
   "source": [
    "Явных зависимостей не обнаружено"
   ]
  },
  {
   "cell_type": "markdown",
   "metadata": {},
   "source": [
    "Так как у нас пропущенные значения имеются только в категориальных переменных, мы можем пропуски заменить на, допустим,  \"нет значения\", чтобы замена не привела к искривлению данных."
   ]
  },
  {
   "cell_type": "code",
   "execution_count": 24,
   "metadata": {},
   "outputs": [],
   "source": [
    "# Замена пропусков\n",
    "auto = auto.fillna('nodata')"
   ]
  },
  {
   "cell_type": "code",
   "execution_count": 25,
   "metadata": {},
   "outputs": [
    {
     "name": "stdout",
     "output_type": "stream",
     "text": [
      "<class 'pandas.core.frame.DataFrame'>\n",
      "RangeIndex: 291457 entries, 0 to 291456\n",
      "Data columns (total 11 columns):\n",
      "Price                291457 non-null int64\n",
      "VehicleType          291457 non-null object\n",
      "RegistrationYear     291457 non-null int64\n",
      "Gearbox              291457 non-null object\n",
      "Power                291457 non-null int64\n",
      "Model                291457 non-null object\n",
      "Kilometer            291457 non-null int64\n",
      "RegistrationMonth    291457 non-null int64\n",
      "FuelType             291457 non-null object\n",
      "Brand                291457 non-null object\n",
      "NotRepaired          291457 non-null object\n",
      "dtypes: int64(5), object(6)\n",
      "memory usage: 24.5+ MB\n"
     ]
    }
   ],
   "source": [
    "# Проверка\n",
    "auto.info()"
   ]
  },
  {
   "cell_type": "code",
   "execution_count": 26,
   "metadata": {},
   "outputs": [],
   "source": [
    "# Разделим датасет на признаки и целевой признак\n",
    "features = auto.drop(['Price'], axis=1)\n",
    "target = auto['Price']"
   ]
  },
  {
   "cell_type": "code",
   "execution_count": 27,
   "metadata": {},
   "outputs": [],
   "source": [
    "# Применим технику прямого кодирования(ohe) для категориальных переменных в датасете\n",
    "auto_ohe = pd.get_dummies(auto, drop_first=True)"
   ]
  },
  {
   "cell_type": "code",
   "execution_count": 28,
   "metadata": {},
   "outputs": [],
   "source": [
    "# Применим технику порядкового кодирования(Ordinal Encoding) для категориальных переменных в датасете\n",
    "features_enc = features.copy()\n",
    "categorical_features = ['VehicleType', 'Gearbox', 'Model', 'FuelType', 'Brand', 'NotRepaired']\n",
    "encoder = OrdinalEncoder()\n",
    "features_enc[categorical_features] = encoder.fit_transform(features_enc[categorical_features])"
   ]
  },
  {
   "cell_type": "code",
   "execution_count": 29,
   "metadata": {},
   "outputs": [],
   "source": [
    "# Выделим признаки в датасете с применением ohe\n",
    "features_ohe = auto_ohe.drop(['Price'], axis=1)"
   ]
  },
  {
   "cell_type": "code",
   "execution_count": 30,
   "metadata": {},
   "outputs": [],
   "source": [
    "# Разделим данные на обучающую и на тестовую выборки, \n",
    "# получатся выборки без кодирования, с прямым кодированием и порядковым кодированием\n",
    "features_train, features_test, target_train, target_test = train_test_split(features, target, test_size=0.25, random_state=20202021)\n",
    "features_train_ohe, features_test_ohe, target_train_ohe, target_test_ohe = train_test_split(features_ohe, target, test_size=0.25, random_state=20202021)\n",
    "features_train_enc, features_test_enc = train_test_split(features_enc, test_size=0.25, random_state=20202021)"
   ]
  },
  {
   "cell_type": "code",
   "execution_count": 31,
   "metadata": {},
   "outputs": [
    {
     "name": "stdout",
     "output_type": "stream",
     "text": [
      "Соотношения:\n",
      "обучающая 0.75\n",
      "тестовая 0.25\n",
      "обучающая ohe 0.75\n",
      "тестовая ohe 0.25\n",
      "обучающая ordinal 0.75\n",
      "тестовая ordinal 0.25\n",
      "\n"
     ]
    }
   ],
   "source": [
    "# Проверим\n",
    "print('Соотношения:')\n",
    "print('обучающая', round(features_train.shape[0] / features.shape[0], 2))\n",
    "print('тестовая', round(features_test.shape[0] / features.shape[0], 2))\n",
    "print('обучающая ohe', round(features_train_ohe.shape[0] / features_ohe.shape[0], 2))\n",
    "print('тестовая ohe', round(features_test_ohe.shape[0] / features_ohe.shape[0], 2))\n",
    "print('обучающая ordinal', round(features_train_enc.shape[0] / features_enc.shape[0], 2))\n",
    "print('тестовая ordinal', round(features_test_enc.shape[0] / features_enc.shape[0], 2))\n",
    "print()"
   ]
  },
  {
   "cell_type": "code",
   "execution_count": 32,
   "metadata": {},
   "outputs": [],
   "source": [
    "# Применим масштабирование признаков, \n",
    "# чтобы исключить доминацию одних признаков над другими\n",
    "numeric = ['RegistrationYear', 'Power', 'Kilometer', 'RegistrationMonth']\n",
    "scaler = StandardScaler()\n",
    "scaler.fit(features_train[numeric])\n",
    "features_train[numeric] = scaler.transform(features_train[numeric])\n",
    "features_test[numeric] = scaler.transform(features_test[numeric])\n",
    "features_train_ohe[numeric] = scaler.transform(features_train_ohe[numeric])\n",
    "features_test_ohe[numeric] = scaler.transform(features_test_ohe[numeric])"
   ]
  },
  {
   "cell_type": "markdown",
   "metadata": {},
   "source": [
    "# Вывод \n",
    "- Исходные данные: 16 признаков и 354369 наблюдений;\n",
    "- Были обнаружены пропуски в категориальных признаках, и, так как это категориальные признаки , попуски были заполнены 'nodata';\n",
    "- целевой признак 'Price' имеет экспоненциональное распределение с пиком около 0, явные неадекватные значения были удалены;\n",
    "- Неадекватно большие и малые значения были удалены из признака 'RegistrationYear' и 'Power';\n",
    "- Явных корреляций между признаками обнаружено не было;\n",
    "- К категориальным признакам была применена техника прямого кодирования;\n",
    "- Данные были разделены на обучающую и тестовую выборки в размере 0.75/0.25"
   ]
  },
  {
   "cell_type": "markdown",
   "metadata": {},
   "source": [
    "## Обучение моделей"
   ]
  },
  {
   "cell_type": "code",
   "execution_count": 33,
   "metadata": {},
   "outputs": [
    {
     "data": {
      "text/html": [
       "<div>\n",
       "<style scoped>\n",
       "    .dataframe tbody tr th:only-of-type {\n",
       "        vertical-align: middle;\n",
       "    }\n",
       "\n",
       "    .dataframe tbody tr th {\n",
       "        vertical-align: top;\n",
       "    }\n",
       "\n",
       "    .dataframe thead th {\n",
       "        text-align: right;\n",
       "    }\n",
       "</style>\n",
       "<table border=\"1\" class=\"dataframe\">\n",
       "  <thead>\n",
       "    <tr style=\"text-align: right;\">\n",
       "      <th></th>\n",
       "      <th>model</th>\n",
       "      <th>fit_time</th>\n",
       "      <th>score_time</th>\n",
       "      <th>RMSE</th>\n",
       "    </tr>\n",
       "  </thead>\n",
       "  <tbody>\n",
       "  </tbody>\n",
       "</table>\n",
       "</div>"
      ],
      "text/plain": [
       "Empty DataFrame\n",
       "Columns: [model, fit_time, score_time, RMSE]\n",
       "Index: []"
      ]
     },
     "execution_count": 33,
     "metadata": {},
     "output_type": "execute_result"
    }
   ],
   "source": [
    "# Создадим таблицу для показателей моделей\n",
    "model_time_rmse = pd.DataFrame(columns=('model','fit_time','score_time','RMSE'))\n",
    "model_time_rmse.head()"
   ]
  },
  {
   "cell_type": "markdown",
   "metadata": {},
   "source": [
    "Decision Tree Regressor"
   ]
  },
  {
   "cell_type": "code",
   "execution_count": 34,
   "metadata": {},
   "outputs": [
    {
     "name": "stdout",
     "output_type": "stream",
     "text": [
      "максимальная глубина дерева {'max_depth': 13}\n"
     ]
    }
   ],
   "source": [
    "# Дерево решений регрессия, автоматический подбор гиперпараметров\n",
    "model_DTR = DecisionTreeRegressor(random_state=20202021)\n",
    "parametr_DTR = {'max_depth': range (1, 16)}\n",
    "gs_DTR = GridSearchCV(model_DTR, parametr_DTR, cv = 5, scoring = 'neg_mean_squared_error')\n",
    "gs_DTR.fit(features_train_enc, target_train)\n",
    "print('максимальная глубина дерева', gs_DTR.best_params_)"
   ]
  },
  {
   "cell_type": "code",
   "execution_count": 35,
   "metadata": {},
   "outputs": [
    {
     "data": {
      "text/html": [
       "<div>\n",
       "<style scoped>\n",
       "    .dataframe tbody tr th:only-of-type {\n",
       "        vertical-align: middle;\n",
       "    }\n",
       "\n",
       "    .dataframe tbody tr th {\n",
       "        vertical-align: top;\n",
       "    }\n",
       "\n",
       "    .dataframe thead th {\n",
       "        text-align: right;\n",
       "    }\n",
       "</style>\n",
       "<table border=\"1\" class=\"dataframe\">\n",
       "  <thead>\n",
       "    <tr style=\"text-align: right;\">\n",
       "      <th></th>\n",
       "      <th>model</th>\n",
       "      <th>fit_time</th>\n",
       "      <th>score_time</th>\n",
       "      <th>RMSE</th>\n",
       "    </tr>\n",
       "  </thead>\n",
       "  <tbody>\n",
       "    <tr>\n",
       "      <td>0</td>\n",
       "      <td>DecisionTreeRegressor</td>\n",
       "      <td>0.867971</td>\n",
       "      <td>0.020011</td>\n",
       "      <td>1680.690178</td>\n",
       "    </tr>\n",
       "  </tbody>\n",
       "</table>\n",
       "</div>"
      ],
      "text/plain": [
       "                   model  fit_time  score_time         RMSE\n",
       "0  DecisionTreeRegressor  0.867971    0.020011  1680.690178"
      ]
     },
     "execution_count": 35,
     "metadata": {},
     "output_type": "execute_result"
    }
   ],
   "source": [
    "# Строка в таблице с показателями\n",
    "dtr = ['DecisionTreeRegressor']\n",
    "# Обучим и посчитаем время обучения\n",
    "model_DTR = DecisionTreeRegressor(random_state=20202021, max_depth = 15)\n",
    "start = time.time()\n",
    "model_DTR.fit(features_train_enc, target_train)\n",
    "end=time.time()\n",
    "# добавим в строку время обучения\n",
    "dtr.append(end-start)\n",
    "# Предскажем и посчитаем время предсказания\n",
    "start = time.time()\n",
    "predictions_DTR = model_DTR.predict(features_test_enc)\n",
    "end=time.time()\n",
    "# добавим в строку время обучения\n",
    "dtr.append(end-start)\n",
    "rmse_DTR = mean_squared_error(target_test, predictions_DTR)**(0.5)\n",
    "# добавим rmse в строку \n",
    "dtr.append(rmse_DTR)\n",
    "# Добавим строку в таблицу с показателями\n",
    "model_time_rmse.loc[len(model_time_rmse)] = dtr\n",
    "model_time_rmse.head()"
   ]
  },
  {
   "cell_type": "markdown",
   "metadata": {},
   "source": [
    "Random Forest Regressor"
   ]
  },
  {
   "cell_type": "code",
   "execution_count": 36,
   "metadata": {},
   "outputs": [
    {
     "name": "stdout",
     "output_type": "stream",
     "text": [
      "лучшие параметры {'max_depth': 5, 'n_estimators': 20}\n"
     ]
    }
   ],
   "source": [
    "# Случайный лес регрессия, автоматический подбор гиперпараметоров \n",
    "model_RFR = RandomForestRegressor(random_state=20202021)\n",
    "parametrs_RFR = {'n_estimators': range (10, 21, 10),\n",
    "             'max_depth': range (1, 6, 1)}\n",
    "gs_RFR = GridSearchCV(model_RFR, parametrs_RFR, scoring = 'neg_mean_squared_error', cv=5)\n",
    "gs_RFR.fit(features_train_enc, target_train)\n",
    "print('лучшие параметры', gs_RFR.best_params_)"
   ]
  },
  {
   "cell_type": "code",
   "execution_count": 37,
   "metadata": {},
   "outputs": [
    {
     "data": {
      "text/html": [
       "<div>\n",
       "<style scoped>\n",
       "    .dataframe tbody tr th:only-of-type {\n",
       "        vertical-align: middle;\n",
       "    }\n",
       "\n",
       "    .dataframe tbody tr th {\n",
       "        vertical-align: top;\n",
       "    }\n",
       "\n",
       "    .dataframe thead th {\n",
       "        text-align: right;\n",
       "    }\n",
       "</style>\n",
       "<table border=\"1\" class=\"dataframe\">\n",
       "  <thead>\n",
       "    <tr style=\"text-align: right;\">\n",
       "      <th></th>\n",
       "      <th>model</th>\n",
       "      <th>fit_time</th>\n",
       "      <th>score_time</th>\n",
       "      <th>RMSE</th>\n",
       "    </tr>\n",
       "  </thead>\n",
       "  <tbody>\n",
       "    <tr>\n",
       "      <td>0</td>\n",
       "      <td>DecisionTreeRegressor</td>\n",
       "      <td>0.867971</td>\n",
       "      <td>0.020011</td>\n",
       "      <td>1680.690178</td>\n",
       "    </tr>\n",
       "    <tr>\n",
       "      <td>1</td>\n",
       "      <td>RandomForestRegressor</td>\n",
       "      <td>4.361338</td>\n",
       "      <td>0.072354</td>\n",
       "      <td>2151.682566</td>\n",
       "    </tr>\n",
       "  </tbody>\n",
       "</table>\n",
       "</div>"
      ],
      "text/plain": [
       "                   model  fit_time  score_time         RMSE\n",
       "0  DecisionTreeRegressor  0.867971    0.020011  1680.690178\n",
       "1  RandomForestRegressor  4.361338    0.072354  2151.682566"
      ]
     },
     "execution_count": 37,
     "metadata": {},
     "output_type": "execute_result"
    }
   ],
   "source": [
    "# Строка в таблице с показателями\n",
    "rfr = ['RandomForestRegressor']\n",
    "# Обучим и посчитаем время обучения\n",
    "model_RFR = RandomForestRegressor(max_depth = 5, n_estimators = 20, random_state=20202021)\n",
    "start = time.time()\n",
    "model_RFR.fit(features_train_enc, target_train)\n",
    "end=time.time()\n",
    "# добавим в строку время обучения\n",
    "rfr.append(end-start)\n",
    "# Предскажем и посчитаем время предсказания\n",
    "start = time.time()\n",
    "predictions_RFR = model_RFR.predict(features_test_enc)\n",
    "end=time.time()\n",
    "# добавим в строку время обучения\n",
    "rfr.append(end-start)\n",
    "rmse_RFR = mean_squared_error(target_test, predictions_RFR)**(0.5)\n",
    "# добавим rmse в строку \n",
    "rfr.append(rmse_RFR)\n",
    "# Добавим строку в таблицу с показателями\n",
    "model_time_rmse.loc[len(model_time_rmse)] = rfr\n",
    "model_time_rmse.head()"
   ]
  },
  {
   "cell_type": "markdown",
   "metadata": {},
   "source": [
    "Linear Regression"
   ]
  },
  {
   "cell_type": "code",
   "execution_count": 38,
   "metadata": {},
   "outputs": [
    {
     "name": "stdout",
     "output_type": "stream",
     "text": [
      "лучшие параметры {'fit_intercept': True, 'normalize': False}\n"
     ]
    }
   ],
   "source": [
    "# Линейная регрессия, автоматический подбор гиперпараметоров \n",
    "model_LR = LinearRegression()\n",
    "parametrs_LR = {'fit_intercept':[True,False], \n",
    "                   'normalize':[True,False]}\n",
    "gs_LR = GridSearchCV(model_LR, param_grid = parametrs_LR, scoring = 'neg_mean_squared_error', cv=5)\n",
    "gs_LR.fit(features_train_ohe, target_train_ohe)\n",
    "print('лучшие параметры', gs_LR.best_params_)"
   ]
  },
  {
   "cell_type": "code",
   "execution_count": 39,
   "metadata": {},
   "outputs": [
    {
     "data": {
      "text/html": [
       "<div>\n",
       "<style scoped>\n",
       "    .dataframe tbody tr th:only-of-type {\n",
       "        vertical-align: middle;\n",
       "    }\n",
       "\n",
       "    .dataframe tbody tr th {\n",
       "        vertical-align: top;\n",
       "    }\n",
       "\n",
       "    .dataframe thead th {\n",
       "        text-align: right;\n",
       "    }\n",
       "</style>\n",
       "<table border=\"1\" class=\"dataframe\">\n",
       "  <thead>\n",
       "    <tr style=\"text-align: right;\">\n",
       "      <th></th>\n",
       "      <th>model</th>\n",
       "      <th>fit_time</th>\n",
       "      <th>score_time</th>\n",
       "      <th>RMSE</th>\n",
       "    </tr>\n",
       "  </thead>\n",
       "  <tbody>\n",
       "    <tr>\n",
       "      <td>0</td>\n",
       "      <td>DecisionTreeRegressor</td>\n",
       "      <td>0.867971</td>\n",
       "      <td>0.020011</td>\n",
       "      <td>1680.690178</td>\n",
       "    </tr>\n",
       "    <tr>\n",
       "      <td>1</td>\n",
       "      <td>RandomForestRegressor</td>\n",
       "      <td>4.361338</td>\n",
       "      <td>0.072354</td>\n",
       "      <td>2151.682566</td>\n",
       "    </tr>\n",
       "    <tr>\n",
       "      <td>2</td>\n",
       "      <td>LinearRegression</td>\n",
       "      <td>23.598017</td>\n",
       "      <td>0.225335</td>\n",
       "      <td>2283.473932</td>\n",
       "    </tr>\n",
       "  </tbody>\n",
       "</table>\n",
       "</div>"
      ],
      "text/plain": [
       "                   model   fit_time  score_time         RMSE\n",
       "0  DecisionTreeRegressor   0.867971    0.020011  1680.690178\n",
       "1  RandomForestRegressor   4.361338    0.072354  2151.682566\n",
       "2       LinearRegression  23.598017    0.225335  2283.473932"
      ]
     },
     "execution_count": 39,
     "metadata": {},
     "output_type": "execute_result"
    }
   ],
   "source": [
    "# Строка в таблице с показателями\n",
    "lr = ['LinearRegression']\n",
    "# Обучим и посчитаем время обучения\n",
    "model_LR = LinearRegression(fit_intercept = True, normalize = False)\n",
    "start = time.time()\n",
    "model_LR.fit(features_train_ohe, target_train_ohe)\n",
    "end=time.time()\n",
    "# добавим в строку время обучения\n",
    "lr.append(end-start)\n",
    "# Предскажем и посчитаем время предсказания\n",
    "start = time.time()\n",
    "predictions_LR = gs_LR.predict(features_test_ohe)\n",
    "end=time.time()\n",
    "# добавим в строку время обучения\n",
    "lr.append(end-start)\n",
    "rmse_LR = mean_squared_error(target_test_ohe, predictions_LR)**(0.5)\n",
    "# добавим rmse в строку \n",
    "lr.append(rmse_LR)\n",
    "# Добавим строку в таблицу с показателями\n",
    "model_time_rmse.loc[len(model_time_rmse)] = lr\n",
    "model_time_rmse.head()"
   ]
  },
  {
   "cell_type": "markdown",
   "metadata": {},
   "source": [
    "LightGBM"
   ]
  },
  {
   "cell_type": "code",
   "execution_count": 40,
   "metadata": {},
   "outputs": [],
   "source": [
    "# Поменяем тип данных для обучения LightGBM\n",
    "categorical = ['VehicleType', 'Gearbox', 'Model', 'FuelType', 'Brand', 'NotRepaired']\n",
    "for column in categorical:\n",
    "    features_train[column] = features_train[column].astype('category')\n",
    "    features_test[column] = features_test[column].astype('category')"
   ]
  },
  {
   "cell_type": "code",
   "execution_count": 41,
   "metadata": {},
   "outputs": [
    {
     "name": "stdout",
     "output_type": "stream",
     "text": [
      "лучшие параметры {'learning_rate': 0.8, 'max_depth': 8}\n"
     ]
    }
   ],
   "source": [
    "# модель LightGBM с подбором гиперпараметров\n",
    "model_lgbm = LGBMRegressor()\n",
    "parametrs_lgbm = {'learning_rate': [0.01, 0.8],\n",
    "             'max_depth': [1, 8]}\n",
    "gs_lgbm = GridSearchCV(model_lgbm, parametrs_lgbm, scoring = 'neg_mean_squared_error', cv=5)\n",
    "gs_lgbm.fit(features_train, target_train)\n",
    "print('лучшие параметры', gs_lgbm.best_params_)"
   ]
  },
  {
   "cell_type": "code",
   "execution_count": null,
   "metadata": {},
   "outputs": [],
   "source": [
    "#LGBMRegressor()\n",
    "model_lgbm = LGBMRegressor()\n",
    "parametrs_lgbm = {'learning_rate': [0.01, 0.8],\n",
    "             'max_depth': [1, 8]}\n",
    "tss = TimesSeriesSplit(n_splits = 5)\n",
    "gs_lgbm = GridSearchCV(model_lgbm, parametrs_lgbm,scoring = 'neg_mean_squared_error',cv=tss)\n",
    "gs_lgbm.fit(features_train, target_train)\n",
    "print('лучшие параметры', gs_lgbm.best_params_)"
   ]
  },
  {
   "cell_type": "code",
   "execution_count": null,
   "metadata": {},
   "outputs": [],
   "source": [
    "# Обучим\n",
    "model_lgbm = LGBMRegressor(learning_rate = 0.8, max_depth = 8)\n",
    "model_lgbm.fit(features_train, target_train)\n",
    "# Прогноз\n",
    "predictions_lgbm = gs_lgbm.predict(features_test)\n",
    "rmse_lgbm = mean_squared_error(target_test, predictions_lgbm)**(0.5)\n",
    "rmse_lgbm"
   ]
  },
  {
   "cell_type": "code",
   "execution_count": 42,
   "metadata": {},
   "outputs": [
    {
     "data": {
      "text/html": [
       "<div>\n",
       "<style scoped>\n",
       "    .dataframe tbody tr th:only-of-type {\n",
       "        vertical-align: middle;\n",
       "    }\n",
       "\n",
       "    .dataframe tbody tr th {\n",
       "        vertical-align: top;\n",
       "    }\n",
       "\n",
       "    .dataframe thead th {\n",
       "        text-align: right;\n",
       "    }\n",
       "</style>\n",
       "<table border=\"1\" class=\"dataframe\">\n",
       "  <thead>\n",
       "    <tr style=\"text-align: right;\">\n",
       "      <th></th>\n",
       "      <th>model</th>\n",
       "      <th>fit_time</th>\n",
       "      <th>score_time</th>\n",
       "      <th>RMSE</th>\n",
       "    </tr>\n",
       "  </thead>\n",
       "  <tbody>\n",
       "    <tr>\n",
       "      <td>0</td>\n",
       "      <td>DecisionTreeRegressor</td>\n",
       "      <td>0.867971</td>\n",
       "      <td>0.020011</td>\n",
       "      <td>1680.690178</td>\n",
       "    </tr>\n",
       "    <tr>\n",
       "      <td>1</td>\n",
       "      <td>RandomForestRegressor</td>\n",
       "      <td>4.361338</td>\n",
       "      <td>0.072354</td>\n",
       "      <td>2151.682566</td>\n",
       "    </tr>\n",
       "    <tr>\n",
       "      <td>2</td>\n",
       "      <td>LinearRegression</td>\n",
       "      <td>23.598017</td>\n",
       "      <td>0.225335</td>\n",
       "      <td>2283.473932</td>\n",
       "    </tr>\n",
       "    <tr>\n",
       "      <td>3</td>\n",
       "      <td>LGBMRegressor</td>\n",
       "      <td>5.995037</td>\n",
       "      <td>0.706576</td>\n",
       "      <td>1467.462079</td>\n",
       "    </tr>\n",
       "  </tbody>\n",
       "</table>\n",
       "</div>"
      ],
      "text/plain": [
       "                   model   fit_time  score_time         RMSE\n",
       "0  DecisionTreeRegressor   0.867971    0.020011  1680.690178\n",
       "1  RandomForestRegressor   4.361338    0.072354  2151.682566\n",
       "2       LinearRegression  23.598017    0.225335  2283.473932\n",
       "3          LGBMRegressor   5.995037    0.706576  1467.462079"
      ]
     },
     "execution_count": 42,
     "metadata": {},
     "output_type": "execute_result"
    }
   ],
   "source": [
    "# Строка в таблице с показателями\n",
    "lgbm = ['LGBMRegressor']\n",
    "# Обучим и посчитаем время обучения\n",
    "model_lgbm = LGBMRegressor(learning_rate = 0.8, max_depth = 8)\n",
    "start = time.time()\n",
    "model_lgbm.fit(features_train, target_train)\n",
    "end=time.time()\n",
    "# добавим в строку время обучения\n",
    "lgbm.append(end-start)\n",
    "# Предскажем и посчитаем время предсказания\n",
    "start = time.time()\n",
    "predictions_lgbm = gs_lgbm.predict(features_test)\n",
    "end=time.time()\n",
    "# добавим в строку время обучения\n",
    "lgbm.append(end-start)\n",
    "rmse_lgbm = mean_squared_error(target_test, predictions_lgbm)**(0.5)\n",
    "# добавим rmse в строку \n",
    "lgbm.append(rmse_lgbm)\n",
    "# Добавим строку в таблицу с показателями\n",
    "model_time_rmse.loc[len(model_time_rmse)] = lgbm\n",
    "model_time_rmse.head()"
   ]
  },
  {
   "cell_type": "markdown",
   "metadata": {},
   "source": [
    "# Вывод\n",
    "Были обучены 4 модели:\n",
    "- Decision Tree Regressor;\n",
    "- Random Forest Regressor;\n",
    "- Linear Regression;\n",
    "- LightGBM"
   ]
  },
  {
   "cell_type": "markdown",
   "metadata": {},
   "source": [
    "## Анализ моделей"
   ]
  },
  {
   "cell_type": "code",
   "execution_count": 43,
   "metadata": {},
   "outputs": [
    {
     "data": {
      "image/png": "[encoded data removed]",
      "text/plain": [
       "<Figure size 1152x576 with 1 Axes>"
      ]
     },
     "metadata": {
      "needs_background": "light"
     },
     "output_type": "display_data"
    }
   ],
   "source": [
    "# Визуализируем полученные результаты, график \"Время обучения\"\n",
    "ax = model_time_rmse.pivot_table(index = 'model', values = 'fit_time').plot(figsize=(16, 8), grid=True, kind='bar', title='fit_time')\n",
    "plt.show()"
   ]
  },
  {
   "cell_type": "code",
   "execution_count": 44,
   "metadata": {},
   "outputs": [
    {
     "data": {
      "image/png": "[encoded data removed]",
      "text/plain": [
       "<Figure size 1152x576 with 1 Axes>"
      ]
     },
     "metadata": {
      "needs_background": "light"
     },
     "output_type": "display_data"
    }
   ],
   "source": [
    "# Визуализируем полученные результаты, график \"Время предсказания\"\n",
    "ax = model_time_rmse.pivot_table(index = 'model', values = 'score_time').plot(figsize=(16, 8), grid=True, kind='bar', title='score_time')\n",
    "plt.show()"
   ]
  },
  {
   "cell_type": "code",
   "execution_count": 45,
   "metadata": {},
   "outputs": [
    {
     "data": {
      "image/png": "[encoded data removed]",
      "text/plain": [
       "<Figure size 1152x576 with 1 Axes>"
      ]
     },
     "metadata": {
      "needs_background": "light"
     },
     "output_type": "display_data"
    }
   ],
   "source": [
    "# Визуализируем полученные результаты, график \"Метрика RMSE\"\n",
    "ax = model_time_rmse.pivot_table(index = 'model', values = 'RMSE').plot(figsize=(16, 8), grid=True, kind='bar', title='RMSE')\n",
    "plt.show()"
   ]
  },
  {
   "cell_type": "markdown",
   "metadata": {},
   "source": [
    "# Вывод\n",
    "- По времени обучения лидирует модель дерево решений, а аутсайдер по времени обучения - линейная регрессия, она показывает наибольшее время обучения. Минимальное время предсказания опять же у дерева решений, а максимальное время обучения у LightGBM. Наименьшее(наилучшее) значение метрики корня из среднеквадратичной ошибки у модели LightGBM(1467), а наибольшее(наихудшее) значение показала модель линейная регрессия(2283). Модели дерево решений и LightGBM показали наилучшие результаты из 4 обученных моделей."
   ]
  },
  {
   "cell_type": "markdown",
   "metadata": {},
   "source": [
    "# Общий вывод \n",
    "\n",
    "# 1\n",
    "\n",
    "- Исходные данные: 16 признаков и 354369 наблюдений;\n",
    "- Были обнаружены пропуски в категориальных признаках, и, так как это категориальные признаки , попуски были заполнены 'nodata';\n",
    "- целевой признак 'Price' имеет экспоненциональное распределение с пиком около 0, явные неадекватные значения были удалены;\n",
    "- Неадекватно большие и малые значения были удалены из признака 'RegistrationYear' и 'Power';\n",
    "- Явных корреляций между признаками обнаружено не было;\n",
    "- К категориальным признакам была применена техника прямого кодирования;\n",
    "- Данные были разделены на обучающую и тестовую выборки в размере 0.75/0.25\n",
    "\n",
    "# 2\n",
    "\n",
    "Были обучены 4 модели:\n",
    "- Decision Tree Regressor;\n",
    "- Random Forest Regressor;\n",
    "- Linear Regression;\n",
    "- LightGBM\n",
    "\n",
    "# 3\n",
    "\n",
    "- По времени обучения лидирует модель дерево решений, а аутсайдер по времени обучения - линейная регрессия, она показывает наибольшее время обучения. Минимальное время предсказания опять же у дерева решений, а максимальное время обучения у LightGBM. Наименьшее(наилучшее) значение метрики корня из среднеквадратичной ошибки у модели LightGBM(1467), а наибольшее(наихудшее) значение показала модель линейная регрессия(2283). Модели дерево решений и LightGBM показали наилучшие результаты из 4 обученных моделей."
   ]
  },
  {
   "cell_type": "markdown",
   "metadata": {},
   "source": [
    "## Чек-лист проверки"
   ]
  },
  {
   "cell_type": "markdown",
   "metadata": {},
   "source": [
    "Поставьте 'x' в выполненных пунктах. Далее нажмите Shift+Enter."
   ]
  },
  {
   "cell_type": "markdown",
   "metadata": {},
   "source": [
    "- [x]  Jupyter Notebook открыт\n",
    "- [x]  Весь код выполняется без ошибок\n",
    "- [x]  Ячейки с кодом расположены в порядке исполнения\n",
    "- [x]  Выполнена загрузка и подготовка данных\n",
    "- [x]  Выполнено обучение моделей\n",
    "- [x]  Есть анализ скорости работы и качества моделей"
   ]
  }
 ],
 "metadata": {
  "kernelspec": {
   "display_name": "Python 3",
   "language": "python",
   "name": "python3"
  },
  "language_info": {
   "codemirror_mode": {
    "name": "ipython",
    "version": 3
   },
   "file_extension": ".py",
   "mimetype": "text/x-python",
   "name": "python",
   "nbconvert_exporter": "python",
   "pygments_lexer": "ipython3",
   "version": "3.8.5"
  },
  "toc": {
   "base_numbering": 1,
   "nav_menu": {},
   "number_sections": true,
   "sideBar": true,
   "skip_h1_title": true,
   "title_cell": "Table of Contents",
   "title_sidebar": "Contents",
   "toc_cell": false,
   "toc_position": {},
   "toc_section_display": true,
   "toc_window_display": false
  }
 },
 "nbformat": 4,
 "nbformat_minor": 2
}
