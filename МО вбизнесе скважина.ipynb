{
 "cells": [
  {
   "cell_type": "markdown",
   "metadata": {},
   "source": [
    "# Выбор локации для скважины"
   ]
  },
  {
   "cell_type": "markdown",
   "metadata": {},
   "source": [
    "Допустим, вы работаете в добывающей компании «ГлавРосГосНефть». Нужно решить, где бурить новую скважину.\n",
    "\n",
    "Вам предоставлены пробы нефти в трёх регионах: в каждом 10 000 месторождений, где измерили качество нефти и объём её запасов. Постройте модель машинного обучения, которая поможет определить регион, где добыча принесёт наибольшую прибыль. Проанализируйте возможную прибыль и риски техникой *Bootstrap.*\n",
    "\n",
    "Шаги для выбора локации:\n",
    "\n",
    "- В избранном регионе ищут месторождения, для каждого определяют значения признаков;\n",
    "- Строят модель и оценивают объём запасов;\n",
    "- Выбирают месторождения с самым высокими оценками значений. Количество месторождений зависит от бюджета компании и стоимости разработки одной скважины;\n",
    "- Прибыль равна суммарной прибыли отобранных месторождений."
   ]
  },
  {
   "cell_type": "code",
   "execution_count": null,
   "metadata": {},
   "outputs": [],
   "source": []
  },
  {
   "cell_type": "markdown",
   "metadata": {},
   "source": [
    "## Загрузите и подготовьте данные. Поясните порядок действий."
   ]
  },
  {
   "cell_type": "code",
   "execution_count": 1,
   "metadata": {},
   "outputs": [],
   "source": [
    "# Импорт библиотек\n",
    "import pandas as pd\n",
    "from sklearn.model_selection import train_test_split\n",
    "from sklearn.linear_model import LinearRegression\n",
    "import numpy as np\n",
    "from numpy.random import RandomState\n",
    "from sklearn.metrics import mean_squared_error\n",
    "from sklearn import metrics\n",
    "import warnings\n",
    "warnings.simplefilter('ignore')"
   ]
  },
  {
   "cell_type": "code",
   "execution_count": 2,
   "metadata": {},
   "outputs": [],
   "source": [
    "# Открываем файлы с данными\n",
    "geo_1 = pd.read_csv('/datasets/geo_data_0.csv')\n",
    "geo_2 = pd.read_csv('/datasets/geo_data_1.csv')\n",
    "geo_3 = pd.read_csv('/datasets/geo_data_2.csv')"
   ]
  },
  {
   "cell_type": "code",
   "execution_count": 3,
   "metadata": {},
   "outputs": [
    {
     "data": {
      "text/html": [
       "<div>\n",
       "<style scoped>\n",
       "    .dataframe tbody tr th:only-of-type {\n",
       "        vertical-align: middle;\n",
       "    }\n",
       "\n",
       "    .dataframe tbody tr th {\n",
       "        vertical-align: top;\n",
       "    }\n",
       "\n",
       "    .dataframe thead th {\n",
       "        text-align: right;\n",
       "    }\n",
       "</style>\n",
       "<table border=\"1\" class=\"dataframe\">\n",
       "  <thead>\n",
       "    <tr style=\"text-align: right;\">\n",
       "      <th></th>\n",
       "      <th>id</th>\n",
       "      <th>f0</th>\n",
       "      <th>f1</th>\n",
       "      <th>f2</th>\n",
       "      <th>product</th>\n",
       "    </tr>\n",
       "  </thead>\n",
       "  <tbody>\n",
       "    <tr>\n",
       "      <td>0</td>\n",
       "      <td>txEyH</td>\n",
       "      <td>0.705745</td>\n",
       "      <td>-0.497823</td>\n",
       "      <td>1.221170</td>\n",
       "      <td>105.280062</td>\n",
       "    </tr>\n",
       "    <tr>\n",
       "      <td>1</td>\n",
       "      <td>2acmU</td>\n",
       "      <td>1.334711</td>\n",
       "      <td>-0.340164</td>\n",
       "      <td>4.365080</td>\n",
       "      <td>73.037750</td>\n",
       "    </tr>\n",
       "    <tr>\n",
       "      <td>2</td>\n",
       "      <td>409Wp</td>\n",
       "      <td>1.022732</td>\n",
       "      <td>0.151990</td>\n",
       "      <td>1.419926</td>\n",
       "      <td>85.265647</td>\n",
       "    </tr>\n",
       "    <tr>\n",
       "      <td>3</td>\n",
       "      <td>iJLyR</td>\n",
       "      <td>-0.032172</td>\n",
       "      <td>0.139033</td>\n",
       "      <td>2.978566</td>\n",
       "      <td>168.620776</td>\n",
       "    </tr>\n",
       "    <tr>\n",
       "      <td>4</td>\n",
       "      <td>Xdl7t</td>\n",
       "      <td>1.988431</td>\n",
       "      <td>0.155413</td>\n",
       "      <td>4.751769</td>\n",
       "      <td>154.036647</td>\n",
       "    </tr>\n",
       "  </tbody>\n",
       "</table>\n",
       "</div>"
      ],
      "text/plain": [
       "      id        f0        f1        f2     product\n",
       "0  txEyH  0.705745 -0.497823  1.221170  105.280062\n",
       "1  2acmU  1.334711 -0.340164  4.365080   73.037750\n",
       "2  409Wp  1.022732  0.151990  1.419926   85.265647\n",
       "3  iJLyR -0.032172  0.139033  2.978566  168.620776\n",
       "4  Xdl7t  1.988431  0.155413  4.751769  154.036647"
      ]
     },
     "metadata": {},
     "output_type": "display_data"
    },
    {
     "data": {
      "text/html": [
       "<div>\n",
       "<style scoped>\n",
       "    .dataframe tbody tr th:only-of-type {\n",
       "        vertical-align: middle;\n",
       "    }\n",
       "\n",
       "    .dataframe tbody tr th {\n",
       "        vertical-align: top;\n",
       "    }\n",
       "\n",
       "    .dataframe thead th {\n",
       "        text-align: right;\n",
       "    }\n",
       "</style>\n",
       "<table border=\"1\" class=\"dataframe\">\n",
       "  <thead>\n",
       "    <tr style=\"text-align: right;\">\n",
       "      <th></th>\n",
       "      <th>id</th>\n",
       "      <th>f0</th>\n",
       "      <th>f1</th>\n",
       "      <th>f2</th>\n",
       "      <th>product</th>\n",
       "    </tr>\n",
       "  </thead>\n",
       "  <tbody>\n",
       "    <tr>\n",
       "      <td>0</td>\n",
       "      <td>kBEdx</td>\n",
       "      <td>-15.001348</td>\n",
       "      <td>-8.276000</td>\n",
       "      <td>-0.005876</td>\n",
       "      <td>3.179103</td>\n",
       "    </tr>\n",
       "    <tr>\n",
       "      <td>1</td>\n",
       "      <td>62mP7</td>\n",
       "      <td>14.272088</td>\n",
       "      <td>-3.475083</td>\n",
       "      <td>0.999183</td>\n",
       "      <td>26.953261</td>\n",
       "    </tr>\n",
       "    <tr>\n",
       "      <td>2</td>\n",
       "      <td>vyE1P</td>\n",
       "      <td>6.263187</td>\n",
       "      <td>-5.948386</td>\n",
       "      <td>5.001160</td>\n",
       "      <td>134.766305</td>\n",
       "    </tr>\n",
       "    <tr>\n",
       "      <td>3</td>\n",
       "      <td>KcrkZ</td>\n",
       "      <td>-13.081196</td>\n",
       "      <td>-11.506057</td>\n",
       "      <td>4.999415</td>\n",
       "      <td>137.945408</td>\n",
       "    </tr>\n",
       "    <tr>\n",
       "      <td>4</td>\n",
       "      <td>AHL4O</td>\n",
       "      <td>12.702195</td>\n",
       "      <td>-8.147433</td>\n",
       "      <td>5.004363</td>\n",
       "      <td>134.766305</td>\n",
       "    </tr>\n",
       "  </tbody>\n",
       "</table>\n",
       "</div>"
      ],
      "text/plain": [
       "      id         f0         f1        f2     product\n",
       "0  kBEdx -15.001348  -8.276000 -0.005876    3.179103\n",
       "1  62mP7  14.272088  -3.475083  0.999183   26.953261\n",
       "2  vyE1P   6.263187  -5.948386  5.001160  134.766305\n",
       "3  KcrkZ -13.081196 -11.506057  4.999415  137.945408\n",
       "4  AHL4O  12.702195  -8.147433  5.004363  134.766305"
      ]
     },
     "metadata": {},
     "output_type": "display_data"
    },
    {
     "data": {
      "text/html": [
       "<div>\n",
       "<style scoped>\n",
       "    .dataframe tbody tr th:only-of-type {\n",
       "        vertical-align: middle;\n",
       "    }\n",
       "\n",
       "    .dataframe tbody tr th {\n",
       "        vertical-align: top;\n",
       "    }\n",
       "\n",
       "    .dataframe thead th {\n",
       "        text-align: right;\n",
       "    }\n",
       "</style>\n",
       "<table border=\"1\" class=\"dataframe\">\n",
       "  <thead>\n",
       "    <tr style=\"text-align: right;\">\n",
       "      <th></th>\n",
       "      <th>id</th>\n",
       "      <th>f0</th>\n",
       "      <th>f1</th>\n",
       "      <th>f2</th>\n",
       "      <th>product</th>\n",
       "    </tr>\n",
       "  </thead>\n",
       "  <tbody>\n",
       "    <tr>\n",
       "      <td>0</td>\n",
       "      <td>kBEdx</td>\n",
       "      <td>-15.001348</td>\n",
       "      <td>-8.276000</td>\n",
       "      <td>-0.005876</td>\n",
       "      <td>3.179103</td>\n",
       "    </tr>\n",
       "    <tr>\n",
       "      <td>1</td>\n",
       "      <td>62mP7</td>\n",
       "      <td>14.272088</td>\n",
       "      <td>-3.475083</td>\n",
       "      <td>0.999183</td>\n",
       "      <td>26.953261</td>\n",
       "    </tr>\n",
       "    <tr>\n",
       "      <td>2</td>\n",
       "      <td>vyE1P</td>\n",
       "      <td>6.263187</td>\n",
       "      <td>-5.948386</td>\n",
       "      <td>5.001160</td>\n",
       "      <td>134.766305</td>\n",
       "    </tr>\n",
       "    <tr>\n",
       "      <td>3</td>\n",
       "      <td>KcrkZ</td>\n",
       "      <td>-13.081196</td>\n",
       "      <td>-11.506057</td>\n",
       "      <td>4.999415</td>\n",
       "      <td>137.945408</td>\n",
       "    </tr>\n",
       "    <tr>\n",
       "      <td>4</td>\n",
       "      <td>AHL4O</td>\n",
       "      <td>12.702195</td>\n",
       "      <td>-8.147433</td>\n",
       "      <td>5.004363</td>\n",
       "      <td>134.766305</td>\n",
       "    </tr>\n",
       "  </tbody>\n",
       "</table>\n",
       "</div>"
      ],
      "text/plain": [
       "      id         f0         f1        f2     product\n",
       "0  kBEdx -15.001348  -8.276000 -0.005876    3.179103\n",
       "1  62mP7  14.272088  -3.475083  0.999183   26.953261\n",
       "2  vyE1P   6.263187  -5.948386  5.001160  134.766305\n",
       "3  KcrkZ -13.081196 -11.506057  4.999415  137.945408\n",
       "4  AHL4O  12.702195  -8.147433  5.004363  134.766305"
      ]
     },
     "metadata": {},
     "output_type": "display_data"
    }
   ],
   "source": [
    "# Первые 5 строк\n",
    "display(geo_1.head())\n",
    "display(geo_2.head())\n",
    "display(geo_2.head())"
   ]
  },
  {
   "cell_type": "code",
   "execution_count": 4,
   "metadata": {},
   "outputs": [
    {
     "name": "stdout",
     "output_type": "stream",
     "text": [
      "<class 'pandas.core.frame.DataFrame'>\n",
      "RangeIndex: 100000 entries, 0 to 99999\n",
      "Data columns (total 5 columns):\n",
      "id         100000 non-null object\n",
      "f0         100000 non-null float64\n",
      "f1         100000 non-null float64\n",
      "f2         100000 non-null float64\n",
      "product    100000 non-null float64\n",
      "dtypes: float64(4), object(1)\n",
      "memory usage: 3.8+ MB\n"
     ]
    },
    {
     "data": {
      "text/plain": [
       "None"
      ]
     },
     "metadata": {},
     "output_type": "display_data"
    },
    {
     "name": "stdout",
     "output_type": "stream",
     "text": [
      "<class 'pandas.core.frame.DataFrame'>\n",
      "RangeIndex: 100000 entries, 0 to 99999\n",
      "Data columns (total 5 columns):\n",
      "id         100000 non-null object\n",
      "f0         100000 non-null float64\n",
      "f1         100000 non-null float64\n",
      "f2         100000 non-null float64\n",
      "product    100000 non-null float64\n",
      "dtypes: float64(4), object(1)\n",
      "memory usage: 3.8+ MB\n"
     ]
    },
    {
     "data": {
      "text/plain": [
       "None"
      ]
     },
     "metadata": {},
     "output_type": "display_data"
    },
    {
     "name": "stdout",
     "output_type": "stream",
     "text": [
      "<class 'pandas.core.frame.DataFrame'>\n",
      "RangeIndex: 100000 entries, 0 to 99999\n",
      "Data columns (total 5 columns):\n",
      "id         100000 non-null object\n",
      "f0         100000 non-null float64\n",
      "f1         100000 non-null float64\n",
      "f2         100000 non-null float64\n",
      "product    100000 non-null float64\n",
      "dtypes: float64(4), object(1)\n",
      "memory usage: 3.8+ MB\n"
     ]
    },
    {
     "data": {
      "text/plain": [
       "None"
      ]
     },
     "metadata": {},
     "output_type": "display_data"
    }
   ],
   "source": [
    "# Информация\n",
    "display(geo_1.info())\n",
    "display(geo_2.info())\n",
    "display(geo_3.info())"
   ]
  },
  {
   "cell_type": "code",
   "execution_count": 5,
   "metadata": {},
   "outputs": [
    {
     "data": {
      "text/plain": [
       "(100000, 5)"
      ]
     },
     "metadata": {},
     "output_type": "display_data"
    },
    {
     "data": {
      "text/plain": [
       "(100000, 5)"
      ]
     },
     "metadata": {},
     "output_type": "display_data"
    },
    {
     "data": {
      "text/plain": [
       "(100000, 5)"
      ]
     },
     "metadata": {},
     "output_type": "display_data"
    }
   ],
   "source": [
    "# Размеры\n",
    "display(geo_1.shape)\n",
    "display(geo_2.shape)\n",
    "display(geo_3.shape)"
   ]
  },
  {
   "cell_type": "code",
   "execution_count": 6,
   "metadata": {},
   "outputs": [
    {
     "data": {
      "text/plain": [
       "0"
      ]
     },
     "metadata": {},
     "output_type": "display_data"
    },
    {
     "data": {
      "text/plain": [
       "0"
      ]
     },
     "metadata": {},
     "output_type": "display_data"
    },
    {
     "data": {
      "text/plain": [
       "0"
      ]
     },
     "metadata": {},
     "output_type": "display_data"
    }
   ],
   "source": [
    "#Проверим на наличие дубликатов\n",
    "display(geo_1.duplicated().sum())\n",
    "display(geo_2.duplicated().sum())\n",
    "display(geo_3.duplicated().sum())"
   ]
  },
  {
   "cell_type": "markdown",
   "metadata": {},
   "source": [
    "Признак 'id' не значимый, для обучения лучше будет, если мы его удалим"
   ]
  },
  {
   "cell_type": "code",
   "execution_count": 7,
   "metadata": {},
   "outputs": [],
   "source": [
    "# Удалим столбец 'id'\n",
    "geo_1.drop('id', axis=1, inplace=True)\n",
    "geo_2.drop('id', axis=1, inplace=True)\n",
    "geo_3.drop('id', axis=1, inplace=True)"
   ]
  },
  {
   "cell_type": "markdown",
   "metadata": {},
   "source": [
    "Дано: 3 набора данных со 100 000 наблюдений и 5 признаками. Признак 'id' был признан не важным и удален. Пропусков в данных не обнаружено. Дубликатов не обнаружено. Типы данных гармоничны."
   ]
  },
  {
   "cell_type": "markdown",
   "metadata": {},
   "source": [
    "## Обучите и проверьте модель для каждого региона:"
   ]
  },
  {
   "cell_type": "markdown",
   "metadata": {},
   "source": [
    "2.1. Разбейте данные на обучающую и валидационную выборки в соотношении 75:25."
   ]
  },
  {
   "cell_type": "code",
   "execution_count": 8,
   "metadata": {},
   "outputs": [],
   "source": [
    "# Обозначим признаки и целевой признак в каждом регионе\n",
    "features_1 = geo_1.drop(['product'], axis=1)\n",
    "target_1 = geo_1['product']\n",
    "features_2 = geo_2.drop(['product'], axis=1)\n",
    "target_2 = geo_2['product']\n",
    "features_3 = geo_3.drop(['product'], axis=1)\n",
    "target_3 = geo_3['product']"
   ]
  },
  {
   "cell_type": "code",
   "execution_count": 9,
   "metadata": {},
   "outputs": [],
   "source": [
    "# Разделим выборки на обучающую и валидационную в каждом регионе\n",
    "features_train_1, features_valid_1, target_train_1, target_valid_1 = train_test_split(features_1, target_1, test_size=0.25, random_state=20202021)\n",
    "features_train_2, features_valid_2, target_train_2, target_valid_2 = train_test_split(features_2, target_2, test_size=0.25, random_state=20202021)\n",
    "features_train_3, features_valid_3, target_train_3, target_valid_3 = train_test_split(features_3, target_3, test_size=0.25, random_state=20202021)"
   ]
  },
  {
   "cell_type": "code",
   "execution_count": 10,
   "metadata": {},
   "outputs": [
    {
     "name": "stdout",
     "output_type": "stream",
     "text": [
      "Соотношения:\n",
      "обучающая, регион 1: 0.75\n",
      "валидационная, регион 1: 0.25\n",
      "обучающая, регион 2: 0.75\n",
      "валидационная, регион 2: 0.25\n",
      "обучающая, регион 3: 0.75\n",
      "валидационная, регион 3: 0.25\n",
      "\n"
     ]
    }
   ],
   "source": [
    "# Проверим\n",
    "print('Соотношения:')\n",
    "print('обучающая, регион 1:', round(features_train_1.shape[0] / features_1.shape[0], 2))\n",
    "print('валидационная, регион 1:', round(features_valid_1.shape[0] / features_1.shape[0], 2))\n",
    "print('обучающая, регион 2:', round(features_train_2.shape[0] / features_2.shape[0], 2))\n",
    "print('валидационная, регион 2:', round(features_valid_2.shape[0] / features_2.shape[0], 2))\n",
    "print('обучающая, регион 3:', round(features_train_3.shape[0] / features_3.shape[0], 2))\n",
    "print('валидационная, регион 3:', round(features_valid_3.shape[0] / features_3.shape[0], 2))\n",
    "print()"
   ]
  },
  {
   "cell_type": "markdown",
   "metadata": {},
   "source": [
    "2.2. Обучите модель и сделайте предсказания на валидационной выборке."
   ]
  },
  {
   "cell_type": "markdown",
   "metadata": {},
   "source": [
    "2.3. Сохраните предсказания и правильные ответы на валидационной выборке."
   ]
  },
  {
   "cell_type": "markdown",
   "metadata": {},
   "source": [
    "2.4. Напечатайте на экране средний запас предсказанного сырья и RMSE модели."
   ]
  },
  {
   "cell_type": "code",
   "execution_count": 11,
   "metadata": {},
   "outputs": [],
   "source": [
    "# Функция обучения, предсказания модели и расчет корня из среднеквадратичной ошибки: \n",
    "# на входе- обучающая и валидационная выборки, на выходе- предсказания модели и rmse\n",
    "def predict_stock(features_train, features_valid, target_train, target_valid):\n",
    "    model = LinearRegression()\n",
    "    model.fit(features_train, target_train)\n",
    "    predicted_valid = model.predict(features_valid)\n",
    "    print('RMSE = {:.2f}'.format(mean_squared_error(target_valid, predicted_valid) ** 0.5))\n",
    "    print('Средний запас предсказанного сырья = {:.2f} рублей'.format(predicted_valid.mean()))\n",
    "    return predicted_valid "
   ]
  },
  {
   "cell_type": "code",
   "execution_count": 12,
   "metadata": {},
   "outputs": [
    {
     "name": "stdout",
     "output_type": "stream",
     "text": [
      "RMSE = 37.89\n",
      "Средний запас предсказанного сырья = 92.58 рублей\n"
     ]
    }
   ],
   "source": [
    "# Обучение модели и ее предсказания среднего запаса сырья, расчет rmse, регион 1 \n",
    "geo1_pedict = predict_stock(features_train_1, features_valid_1, target_train_1, target_valid_1)"
   ]
  },
  {
   "cell_type": "code",
   "execution_count": 13,
   "metadata": {},
   "outputs": [
    {
     "name": "stdout",
     "output_type": "stream",
     "text": [
      "RMSE = 0.89\n",
      "Средний запас предсказанного сырья = 68.79 рублей\n"
     ]
    }
   ],
   "source": [
    "# Обучение модели и ее предсказания среднего запаса сырья, расчет rmse, регион 2 \n",
    "geo2_pedict = predict_stock(features_train_2, features_valid_2, target_train_2, target_valid_2)"
   ]
  },
  {
   "cell_type": "code",
   "execution_count": 14,
   "metadata": {},
   "outputs": [
    {
     "name": "stdout",
     "output_type": "stream",
     "text": [
      "RMSE = 39.86\n",
      "Средний запас предсказанного сырья = 95.09 рублей\n"
     ]
    }
   ],
   "source": [
    "# Обучение модели и ее предсказания среднего запаса сырья, расчет rmse, регион 3 \n",
    "geo3_pedict = predict_stock(features_train_3, features_valid_3, target_train_3, target_valid_3)"
   ]
  },
  {
   "cell_type": "code",
   "execution_count": null,
   "metadata": {},
   "outputs": [],
   "source": []
  },
  {
   "cell_type": "markdown",
   "metadata": {},
   "source": [
    "2.5. Проанализируйте результаты."
   ]
  },
  {
   "cell_type": "markdown",
   "metadata": {},
   "source": [
    "Наибольшее значение среднего запаса сырья модель предсказала для региона 3, и в то же время там больше всего значение rmse, наименьший средний запас сырья по предсказанию модели в регионе 2 и в то же время там наименьшее значение rmse. "
   ]
  },
  {
   "cell_type": "markdown",
   "metadata": {},
   "source": [
    "## Подготовьтесь к расчёту прибыли:"
   ]
  },
  {
   "cell_type": "markdown",
   "metadata": {},
   "source": [
    "Условия задачи:\n",
    "\n",
    "- Для обучения модели подходит только линейная регрессия (остальные — недостаточно   предсказуемые).\n",
    "- При разведке региона исследуют 500 точек, из которых с помощью машинного обучения         выбирают 200 лучших для разработки.\n",
    "- Бюджет на разработку скважин в регионе — 10 млрд рублей.\n",
    "- При нынешних ценах один баррель сырья приносит 450 рублей дохода. Доход с каждой единицы   продукта составляет 450 тыс. рублей, поскольку объём указан в тысячах баррелей.\n",
    "- После оценки рисков нужно оставить лишь те регионы, в которых вероятность убытков меньше   2.5%. Среди них выбирают регион с наибольшей средней прибылью.\n"
   ]
  },
  {
   "cell_type": "markdown",
   "metadata": {},
   "source": [
    "3.1. Все ключевые значения для расчётов сохраните в отдельных переменных."
   ]
  },
  {
   "cell_type": "code",
   "execution_count": 15,
   "metadata": {},
   "outputs": [],
   "source": [
    "# Обозначим переменные\n",
    "SAMPLE_WELLS = 500 #выборка из 500 скважин в регионе\n",
    "BEST_WELLS = 200 #лучшие 200 скважин в регионе\n",
    "BUDGET = 10000000000 #бюджет на разработку 1 региона\n",
    "PROFIT_1 = 450000 #доход с 1000 баррелей"
   ]
  },
  {
   "cell_type": "markdown",
   "metadata": {},
   "source": [
    "3.2. Рассчитайте достаточный объём сырья для безубыточной разработки новой скважины. Сравните полученный объём сырья со средним запасом в каждом регионе."
   ]
  },
  {
   "cell_type": "code",
   "execution_count": 16,
   "metadata": {},
   "outputs": [
    {
     "name": "stdout",
     "output_type": "stream",
     "text": [
      "Достаточный объём сырья для безубыточной разработки новой скважины = 111.11 рублей\n"
     ]
    }
   ],
   "source": [
    "# Рассчитаем достаточный объём сырья для безубыточной разработки новой скважины\n",
    "min_stock = BUDGET / PROFIT_1 / BEST_WELLS\n",
    "print('Достаточный объём сырья для безубыточной разработки новой скважины = {:.2f} рублей'.format(min_stock))"
   ]
  },
  {
   "cell_type": "markdown",
   "metadata": {},
   "source": [
    "3.3. Напишите выводы по этапу подготовки расчёта прибыли."
   ]
  },
  {
   "cell_type": "markdown",
   "metadata": {},
   "source": [
    "Необходимый минимальный объем сырья для беубыточной разработки новой скважины составляет 111.11 тысяч баррелей. Средний предсказанный объем сырья в скважине в каждом регионе не дотягивает даже до отметки 100 000 баррелей. Но, по условиям задачи, нам необходимо выбрать 200 наилучших по объему сырья скважин. "
   ]
  },
  {
   "cell_type": "markdown",
   "metadata": {},
   "source": [
    "## Напишите функцию для расчёта прибыли по выбранным скважинам и предсказаниям модели:"
   ]
  },
  {
   "cell_type": "markdown",
   "metadata": {},
   "source": [
    "4.1. Выберите скважины с максимальными значениями предсказаний."
   ]
  },
  {
   "cell_type": "markdown",
   "metadata": {},
   "source": [
    "4.2. Просуммируйте целевое значение объёма сырья, соответствующее этим предсказаниям."
   ]
  },
  {
   "cell_type": "markdown",
   "metadata": {},
   "source": [
    "4.3. Рассчитайте прибыль для полученного объёма сырья."
   ]
  },
  {
   "cell_type": "code",
   "execution_count": 17,
   "metadata": {},
   "outputs": [],
   "source": [
    "# Функция для расчета прибыли: \n",
    "# на вход получает - список с ответами(целевой признак), предсказания модели, количество скважин,\n",
    "# на выходе - возвращает прибыль\n",
    "def get_revenue(target, prediction, count):\n",
    "    probs_sorted = prediction.sort_values(ascending=False)\n",
    "    selected = target[probs_sorted.index][:count]\n",
    "    revenue = PROFIT_1 * selected.sum()\n",
    "    return round(revenue - BUDGET, 2)"
   ]
  },
  {
   "cell_type": "code",
   "execution_count": 18,
   "metadata": {},
   "outputs": [
    {
     "name": "stdout",
     "output_type": "stream",
     "text": [
      "Прибыль для полученного объема сырья в регионе 1 = -7836838642.33 рублей\n"
     ]
    }
   ],
   "source": [
    "# применение функции, регион 1\n",
    "geo1_pedict = pd.Series(geo1_pedict)\n",
    "geo1_revenue = get_revenue(target_valid_1, geo1_pedict, 200)\n",
    "print('Прибыль для полученного объема сырья в регионе 1 = {:.2f} рублей'.format(geo1_revenue))"
   ]
  },
  {
   "cell_type": "code",
   "execution_count": 19,
   "metadata": {},
   "outputs": [
    {
     "name": "stdout",
     "output_type": "stream",
     "text": [
      "Прибыль для полученного объема сырья в регионе 2 = -8645038834.67 рублей\n"
     ]
    }
   ],
   "source": [
    "# применение функции, регион 2\n",
    "geo2_pedict = pd.Series(geo2_pedict)\n",
    "geo2_revenue = get_revenue(target_valid_2, geo2_pedict, 200)\n",
    "print('Прибыль для полученного объема сырья в регионе 2 = {:.2f} рублей'.format(geo2_revenue))"
   ]
  },
  {
   "cell_type": "code",
   "execution_count": 20,
   "metadata": {},
   "outputs": [
    {
     "name": "stdout",
     "output_type": "stream",
     "text": [
      "Прибыль для полученного объема сырья в регионе 3 = -8015186066.80 рублей\n"
     ]
    }
   ],
   "source": [
    "# применение функции, регион 3\n",
    "geo3_pedict = pd.Series(geo3_pedict)\n",
    "geo3_revenue = get_revenue(target_valid_3, geo3_pedict, 200)\n",
    "print('Прибыль для полученного объема сырья в регионе 3 = {:.2f} рублей'.format(geo3_revenue))"
   ]
  },
  {
   "cell_type": "markdown",
   "metadata": {},
   "source": [
    "На данном этапе более привелекательным выглядит регион 1."
   ]
  },
  {
   "cell_type": "markdown",
   "metadata": {},
   "source": [
    "## Посчитайте риски и прибыль для каждого региона:"
   ]
  },
  {
   "cell_type": "markdown",
   "metadata": {},
   "source": [
    "5.1. Примените технику Bootstrap с 1000 выборок, чтобы найти распределение прибыли."
   ]
  },
  {
   "cell_type": "markdown",
   "metadata": {},
   "source": [
    "5.2. Найдите среднюю прибыль, 95%-й доверительный интервал и риск убытков. Убыток — это отрицательная прибыль."
   ]
  },
  {
   "cell_type": "code",
   "execution_count": 23,
   "metadata": {},
   "outputs": [],
   "source": [
    "# Напишем функцию техника бутстреп, на вход список с ответами(целевой признак) и предсказания модели,\n",
    "# для расчета средней прибыли, доверительного интервала и риска убытков.\n",
    "state = RandomState(20202021)\n",
    "\n",
    "def bootstrap(target, prediction):\n",
    "    target = target.reset_index(drop=True)\n",
    "    values = []\n",
    "    loss = 0\n",
    "    for i in range(1000):\n",
    "        predicted_subsample = prediction.sample(n=500, replace=True, random_state=state)\n",
    "        target_subsample = target[predicted_subsample.index]\n",
    "        profit = get_revenue(target_subsample, predicted_subsample, BEST_WELLS)\n",
    "        values.append(profit)\n",
    "        if profit < 0:\n",
    "            loss += 1\n",
    "        \n",
    "    values = pd.Series(values)\n",
    "    \n",
    "    mean = values.mean()\n",
    "\n",
    "    lower = values.quantile(.025)\n",
    "    upper = values.quantile(.975)\n",
    "    \n",
    "    risk_of_loss = loss / 1000\n",
    "    \n",
    "    print(\"Средняя прибыль =: {:.2f} рублей\".format(mean))\n",
    "    print(\"95 % доверительный интервал: ({:.2f},{:.2f})\".format(lower, upper))\n",
    "    print(\"Риск убытков: {0:.0%}\".format(risk_of_loss))"
   ]
  },
  {
   "cell_type": "code",
   "execution_count": 24,
   "metadata": {},
   "outputs": [
    {
     "name": "stdout",
     "output_type": "stream",
     "text": [
      "В регионе 1\n",
      "0      3.256593e+08\n",
      "1      6.322177e+08\n",
      "2     -5.840247e+07\n",
      "3      7.628355e+08\n",
      "4      4.509592e+08\n",
      "           ...     \n",
      "995    4.213601e+08\n",
      "996    2.070292e+08\n",
      "997    5.439701e+08\n",
      "998    5.076281e+08\n",
      "999    9.495028e+07\n",
      "Length: 1000, dtype: float64\n",
      "Средняя прибыль =: 410257291.10 рублей\n",
      "95 % доверительный интервал: (-140381455.27,949061564.71)\n",
      "Риск убытков: 8%\n",
      "-----------------------------------\n",
      "В регионе 2\n",
      "0      7.666667e+08\n",
      "1      1.616489e+08\n",
      "2      5.661967e+08\n",
      "3      5.047432e+08\n",
      "4      6.210569e+08\n",
      "           ...     \n",
      "995    3.507364e+08\n",
      "996    3.150337e+08\n",
      "997    8.529379e+08\n",
      "998    5.140732e+08\n",
      "999    5.347857e+08\n",
      "Length: 1000, dtype: float64\n",
      "Средняя прибыль =: 487369252.76 рублей\n",
      "95 % доверительный интервал: (59515260.48,930127880.07)\n",
      "Риск убытков: 2%\n",
      "-----------------------------------\n",
      "В регионе 3\n",
      "0      3.805890e+08\n",
      "1      2.295803e+08\n",
      "2      5.502605e+08\n",
      "3      6.719055e+07\n",
      "4      7.283964e+08\n",
      "           ...     \n",
      "995    4.830780e+08\n",
      "996    6.879725e+08\n",
      "997    2.754949e+08\n",
      "998    3.155434e+08\n",
      "999    4.725762e+08\n",
      "Length: 1000, dtype: float64\n",
      "Средняя прибыль =: 393076685.45 рублей\n",
      "95 % доверительный интервал: (-142544696.90,913787756.86)\n",
      "Риск убытков: 8%\n"
     ]
    }
   ],
   "source": [
    "print(\"В регионе 1\")\n",
    "bootstrap(target_valid_1, geo1_pedict)\n",
    "print('-----------------------------------')\n",
    "print(\"В регионе 2\")\n",
    "bootstrap(target_valid_2, geo2_pedict)\n",
    "print('-----------------------------------')\n",
    "print(\"В регионе 3\")\n",
    "bootstrap(target_valid_3, geo3_pedict)"
   ]
  },
  {
   "cell_type": "markdown",
   "metadata": {},
   "source": [
    "5.3. Напишите выводы: предложите регион для разработки скважин и обоснуйте выбор."
   ]
  },
  {
   "cell_type": "markdown",
   "metadata": {},
   "source": [
    "Во втором регионе наименьший риск убытков и наибольшая прибыль, с этой точки зрения этот регион выглядит привлекательнее для разработки по сравнению с двумя остальными регионами, в которых и прибыль меньше и риск убытков больше."
   ]
  },
  {
   "cell_type": "markdown",
   "metadata": {},
   "source": [
    "## Чек-лист готовности проекта"
   ]
  },
  {
   "cell_type": "markdown",
   "metadata": {},
   "source": [
    "Поставьте 'x' в выполненных пунктах. Далее нажмите Shift+Enter."
   ]
  },
  {
   "cell_type": "markdown",
   "metadata": {},
   "source": [
    "- [x]  Jupyter Notebook открыт\n",
    "- [x]  Весь код выполняется без ошибок\n",
    "- [x]  Ячейки с кодом расположены в порядке исполнения\n",
    "- [x]  Выполнен шаг 1: данные подготовлены\n",
    "- [x]  Выполнен шаг 2: модели обучены и проверены\n",
    "    - [x]  Данные корректно разбиты на обучающую и валидационную выборки\n",
    "    - [x]  Модели обучены, предсказания сделаны\n",
    "    - [x]  Предсказания и правильные ответы на валидационной выборке сохранены\n",
    "    - [x]  На экране напечатаны результаты\n",
    "    - [x]  Сделаны выводы\n",
    "- [x]  Выполнен шаг 3: проведена подготовка к расчёту прибыли\n",
    "    - [x]  Для всех ключевых значений созданы константы Python\n",
    "    - [x]  Посчитано минимальное среднее количество продукта в месторождениях региона, достаточное для разработки\n",
    "    - [x]  По предыдущему пункту сделаны выводы\n",
    "    - [x]  Написана функция расчёта прибыли\n",
    "- [x]  Выполнен шаг 4: посчитаны риски и прибыль\n",
    "    - [x]  Проведена процедура *Bootstrap*\n",
    "    - [x]  Все параметры бутстрепа соответствуют условию\n",
    "    - [x]  Найдены все нужные величины\n",
    "    - [x]  Предложен регион для разработки месторождения\n",
    "    - [x]  Выбор региона обоснован"
   ]
  },
  {
   "cell_type": "markdown",
   "metadata": {},
   "source": [
    "<div class=\"alert alert-success\">\n",
    "<h2> Комментарий ревьюера</h2>\n",
    "\n",
    "-Спасибо за качественно сделанный проект, было приятно проверять. \n",
    "\n",
    "- Видно, что приложено много усилий\n",
    "\n",
    "- Код написан хорошо \n",
    "\n",
    "- Соблюдена структура проекта \n",
    "    \n",
    "- Также оставил пару замечаний и советов\n",
    "    \n",
    "Удачи в следующие проектах!\n",
    "</div>"
   ]
  },
  {
   "cell_type": "code",
   "execution_count": null,
   "metadata": {},
   "outputs": [],
   "source": []
  }
 ],
 "metadata": {
  "kernelspec": {
   "display_name": "Python 3",
   "language": "python",
   "name": "python3"
  },
  "language_info": {
   "codemirror_mode": {
    "name": "ipython",
    "version": 3
   },
   "file_extension": ".py",
   "mimetype": "text/x-python",
   "name": "python",
   "nbconvert_exporter": "python",
   "pygments_lexer": "ipython3",
   "version": "3.8.5"
  },
  "toc": {
   "base_numbering": 1,
   "nav_menu": {},
   "number_sections": true,
   "sideBar": true,
   "skip_h1_title": true,
   "title_cell": "Table of Contents",
   "title_sidebar": "Contents",
   "toc_cell": false,
   "toc_position": {},
   "toc_section_display": true,
   "toc_window_display": false
  }
 },
 "nbformat": 4,
 "nbformat_minor": 2
}
